{
 "cells": [
  {
   "cell_type": "code",
   "execution_count": 54,
   "metadata": {},
   "outputs": [],
   "source": [
    "import glob\n",
    "import numpy as np\n",
    "import pandas as pd\n",
    "import csv\n",
    "import tensorflow as tf\n",
    "from keras.layers import Dense, Activation, Flatten, Dropout, LSTM, Conv1D, MaxPool1D\n",
    "from keras.models import Sequential, Model\n",
    "from keras import regularizers, optimizers\n",
    "import keras\n",
    "import sklearn\n",
    "from sklearn.model_selection import train_test_split"
   ]
  },
  {
   "cell_type": "code",
   "execution_count": 2,
   "metadata": {},
   "outputs": [],
   "source": [
    "cough_df = pd.read_csv(\"cough_dataset.csv\")\n",
    "del cough_df['filename']\n",
    "cough_df['label']=\"Cough\"\n",
    "no_cough_df = pd.read_csv(\"nocough_dataset.csv\")\n",
    "del no_cough_df['filename']\n",
    "no_cough_df['label']=\"No Cough\"\n",
    "no_cough_df = no_cough_df.sample(frac=1) #Shuffle dataset to ensure no-cough \n",
    "no_cough_df = no_cough_df.head(len(cough_df)) #The two datasets should be the same length "
   ]
  },
  {
   "cell_type": "code",
   "execution_count": 3,
   "metadata": {},
   "outputs": [],
   "source": [
    "full_df = pd.concat([cough_df,no_cough_df])\n",
    "features = full_df.columns[0:-1]\n",
    "labels = pd.get_dummies(full_df['label']).values\n",
    "\"\"\"\n",
    "I chose to one-hot-encode the labels; originally I had assigned 0 to Covid and 1 to No Covid, but this made interpreting results incredibly difficult.\n",
    "pd.get_dummies() turns the results into two columns - if the original value was \"Covid,\" the row is [1,0]. Otherwise, the value is [0,1].\n",
    "Intepreting model predictions becomes much easier; if a higher value is in the first column, the model has predicted Cough, otherwise, the model has predicted No Cough\n",
    "\"\"\"\n",
    "input_data = full_df[features].values"
   ]
  },
  {
   "cell_type": "code",
   "execution_count": 9,
   "metadata": {},
   "outputs": [
    {
     "data": {
      "text/plain": [
       "(12000, 56)"
      ]
     },
     "execution_count": 9,
     "metadata": {},
     "output_type": "execute_result"
    }
   ],
   "source": [
    "input_data.shape"
   ]
  },
  {
   "cell_type": "code",
   "execution_count": 4,
   "metadata": {},
   "outputs": [],
   "source": [
    "X_train, X_test, y_train, y_test =  train_test_split(input_data,labels,test_size=0.1)"
   ]
  },
  {
   "cell_type": "code",
   "execution_count": 73,
   "metadata": {},
   "outputs": [],
   "source": [
    "\"\"\"\n",
    "There isn't a whole lot of logic to this so far - the model needs improving. \n",
    "\"\"\"\n",
    "\n",
    "def get_basic_model():\n",
    "  model = Sequential()\n",
    "  model.add(Conv1D(254, 3, padding='same',input_shape=(56,1),activation='relu'))\n",
    "  model.add(Dense(136,kernel_regularizer='l1'))\n",
    "  model.add(Dropout(.2))\n",
    "  model.add(LSTM(105,return_sequences=True,dropout=0.2))\n",
    "  model.add(Dropout(.2))\n",
    "  model.add(Dense(20,kernel_regularizer='l1'))\n",
    "  model.add(Flatten())\n",
    "  model.add(Dense(2,activation=\"sigmoid\")) #Output has two columns (Covid, Non-Covid). Sigmoid activation is also supposed to be best for class-based entropy\n",
    "\n",
    "  model.compile(optimizer='rmsprop',\n",
    "                loss=tf.keras.losses.CategoricalCrossentropy(),\n",
    "                metrics=['accuracy',tf.keras.metrics.Precision(),tf.keras.metrics.Recall(), tf.keras.metrics.CategoricalAccuracy()])\n",
    "  model.summary()\n",
    "  return model"
   ]
  },
  {
   "cell_type": "code",
   "execution_count": 74,
   "metadata": {},
   "outputs": [
    {
     "name": "stdout",
     "output_type": "stream",
     "text": [
      "Model: \"sequential_19\"\n",
      "_________________________________________________________________\n",
      " Layer (type)                Output Shape              Param #   \n",
      "=================================================================\n",
      " conv1d_19 (Conv1D)          (None, 56, 254)           1016      \n",
      "                                                                 \n",
      " dense_51 (Dense)            (None, 56, 136)           34680     \n",
      "                                                                 \n",
      " dropout_37 (Dropout)        (None, 56, 136)           0         \n",
      "                                                                 \n",
      " lstm_25 (LSTM)              (None, 56, 105)           101640    \n",
      "                                                                 \n",
      " dropout_38 (Dropout)        (None, 56, 105)           0         \n",
      "                                                                 \n",
      " dense_52 (Dense)            (None, 56, 20)            2120      \n",
      "                                                                 \n",
      " flatten_18 (Flatten)        (None, 1120)              0         \n",
      "                                                                 \n",
      " dense_53 (Dense)            (None, 2)                 2242      \n",
      "                                                                 \n",
      "=================================================================\n",
      "Total params: 141,698\n",
      "Trainable params: 141,698\n",
      "Non-trainable params: 0\n",
      "_________________________________________________________________\n"
     ]
    }
   ],
   "source": [
    "model = get_basic_model()"
   ]
  },
  {
   "cell_type": "code",
   "execution_count": 75,
   "metadata": {},
   "outputs": [
    {
     "name": "stdout",
     "output_type": "stream",
     "text": [
      "Epoch 1/20\n",
      "304/304 [==============================] - 20s 53ms/step - loss: 5.9414 - accuracy: 0.6629 - precision_17: 0.6583 - recall_17: 0.6476 - categorical_accuracy: 0.6629 - val_loss: 0.8846 - val_accuracy: 0.6694 - val_precision_17: 0.6636 - val_recall_17: 0.6741 - val_categorical_accuracy: 0.6694\n",
      "Epoch 2/20\n",
      "304/304 [==============================] - 15s 50ms/step - loss: 0.8404 - accuracy: 0.6641 - precision_17: 0.6577 - recall_17: 0.6909 - categorical_accuracy: 0.6641 - val_loss: 0.9636 - val_accuracy: 0.5528 - val_precision_17: 0.5569 - val_recall_17: 0.5481 - val_categorical_accuracy: 0.5528\n",
      "Epoch 3/20\n",
      "304/304 [==============================] - 17s 57ms/step - loss: 0.7973 - accuracy: 0.6786 - precision_17: 0.6711 - recall_17: 0.7022 - categorical_accuracy: 0.6786 - val_loss: 0.7660 - val_accuracy: 0.6889 - val_precision_17: 0.6825 - val_recall_17: 0.7065 - val_categorical_accuracy: 0.6889\n",
      "Epoch 4/20\n",
      "304/304 [==============================] - 22s 74ms/step - loss: 0.7802 - accuracy: 0.6999 - precision_17: 0.6897 - recall_17: 0.7276 - categorical_accuracy: 0.6999 - val_loss: 0.7715 - val_accuracy: 0.7000 - val_precision_17: 0.6833 - val_recall_17: 0.7472 - val_categorical_accuracy: 0.7000\n",
      "Epoch 5/20\n",
      "304/304 [==============================] - 20s 64ms/step - loss: 0.7694 - accuracy: 0.7075 - precision_17: 0.6960 - recall_17: 0.7392 - categorical_accuracy: 0.7075 - val_loss: 0.7557 - val_accuracy: 0.7389 - val_precision_17: 0.7190 - val_recall_17: 0.7843 - val_categorical_accuracy: 0.7389\n",
      "Epoch 6/20\n",
      "304/304 [==============================] - 25s 84ms/step - loss: 0.7525 - accuracy: 0.7240 - precision_17: 0.7124 - recall_17: 0.7537 - categorical_accuracy: 0.7240 - val_loss: 0.7468 - val_accuracy: 0.7259 - val_precision_17: 0.7160 - val_recall_17: 0.7611 - val_categorical_accuracy: 0.7259\n",
      "Epoch 7/20\n",
      "304/304 [==============================] - 22s 71ms/step - loss: 0.7529 - accuracy: 0.7247 - precision_17: 0.7129 - recall_17: 0.7522 - categorical_accuracy: 0.7247 - val_loss: 0.7612 - val_accuracy: 0.7213 - val_precision_17: 0.7055 - val_recall_17: 0.7454 - val_categorical_accuracy: 0.7213\n",
      "Epoch 8/20\n",
      "304/304 [==============================] - 20s 65ms/step - loss: 0.7486 - accuracy: 0.7297 - precision_17: 0.7179 - recall_17: 0.7604 - categorical_accuracy: 0.7297 - val_loss: 0.7360 - val_accuracy: 0.7315 - val_precision_17: 0.7178 - val_recall_17: 0.7537 - val_categorical_accuracy: 0.7315\n",
      "Epoch 9/20\n",
      "304/304 [==============================] - 23s 75ms/step - loss: 0.7377 - accuracy: 0.7379 - precision_17: 0.7291 - recall_17: 0.7575 - categorical_accuracy: 0.7379 - val_loss: 0.7232 - val_accuracy: 0.7444 - val_precision_17: 0.7232 - val_recall_17: 0.7815 - val_categorical_accuracy: 0.7444\n",
      "Epoch 10/20\n",
      "304/304 [==============================] - 23s 77ms/step - loss: 0.7186 - accuracy: 0.7441 - precision_17: 0.7290 - recall_17: 0.7744 - categorical_accuracy: 0.7441 - val_loss: 0.7166 - val_accuracy: 0.7556 - val_precision_17: 0.7242 - val_recall_17: 0.7926 - val_categorical_accuracy: 0.7556\n",
      "Epoch 11/20\n",
      "304/304 [==============================] - 21s 69ms/step - loss: 0.7158 - accuracy: 0.7463 - precision_17: 0.7331 - recall_17: 0.7730 - categorical_accuracy: 0.7463 - val_loss: 0.8072 - val_accuracy: 0.6676 - val_precision_17: 0.6563 - val_recall_17: 0.6843 - val_categorical_accuracy: 0.6676\n",
      "Epoch 12/20\n",
      "304/304 [==============================] - 21s 71ms/step - loss: 0.7120 - accuracy: 0.7495 - precision_17: 0.7340 - recall_17: 0.7757 - categorical_accuracy: 0.7495 - val_loss: 0.7290 - val_accuracy: 0.7167 - val_precision_17: 0.7069 - val_recall_17: 0.7435 - val_categorical_accuracy: 0.7167\n",
      "Epoch 13/20\n",
      "304/304 [==============================] - 21s 71ms/step - loss: 0.7205 - accuracy: 0.7549 - precision_17: 0.7410 - recall_17: 0.7782 - categorical_accuracy: 0.7549 - val_loss: 0.7885 - val_accuracy: 0.7417 - val_precision_17: 0.7323 - val_recall_17: 0.7648 - val_categorical_accuracy: 0.7417\n",
      "Epoch 14/20\n",
      "304/304 [==============================] - 19s 61ms/step - loss: 0.7095 - accuracy: 0.7495 - precision_17: 0.7387 - recall_17: 0.7720 - categorical_accuracy: 0.7495 - val_loss: 0.7393 - val_accuracy: 0.7074 - val_precision_17: 0.6978 - val_recall_17: 0.7269 - val_categorical_accuracy: 0.7074\n",
      "Epoch 15/20\n",
      "304/304 [==============================] - 16s 53ms/step - loss: 0.7055 - accuracy: 0.7525 - precision_17: 0.7397 - recall_17: 0.7762 - categorical_accuracy: 0.7525 - val_loss: 0.7197 - val_accuracy: 0.7417 - val_precision_17: 0.7237 - val_recall_17: 0.7759 - val_categorical_accuracy: 0.7417\n",
      "Epoch 16/20\n",
      "304/304 [==============================] - 16s 54ms/step - loss: 0.7037 - accuracy: 0.7615 - precision_17: 0.7488 - recall_17: 0.7810 - categorical_accuracy: 0.7615 - val_loss: 0.7139 - val_accuracy: 0.7602 - val_precision_17: 0.7407 - val_recall_17: 0.7907 - val_categorical_accuracy: 0.7602\n",
      "Epoch 17/20\n",
      "304/304 [==============================] - 16s 53ms/step - loss: 0.7053 - accuracy: 0.7612 - precision_17: 0.7507 - recall_17: 0.7795 - categorical_accuracy: 0.7612 - val_loss: 0.7213 - val_accuracy: 0.7676 - val_precision_17: 0.7529 - val_recall_17: 0.7898 - val_categorical_accuracy: 0.7676\n",
      "Epoch 18/20\n",
      "304/304 [==============================] - 17s 56ms/step - loss: 0.7016 - accuracy: 0.7638 - precision_17: 0.7522 - recall_17: 0.7805 - categorical_accuracy: 0.7638 - val_loss: 0.7041 - val_accuracy: 0.7463 - val_precision_17: 0.7369 - val_recall_17: 0.7676 - val_categorical_accuracy: 0.7463\n",
      "Epoch 19/20\n",
      "304/304 [==============================] - 16s 52ms/step - loss: 0.6941 - accuracy: 0.7601 - precision_17: 0.7515 - recall_17: 0.7777 - categorical_accuracy: 0.7601 - val_loss: 0.7139 - val_accuracy: 0.7435 - val_precision_17: 0.7385 - val_recall_17: 0.7583 - val_categorical_accuracy: 0.7435\n",
      "Epoch 20/20\n",
      "304/304 [==============================] - 16s 54ms/step - loss: 0.6966 - accuracy: 0.7622 - precision_17: 0.7512 - recall_17: 0.7808 - categorical_accuracy: 0.7622 - val_loss: 0.7846 - val_accuracy: 0.7148 - val_precision_17: 0.7066 - val_recall_17: 0.7380 - val_categorical_accuracy: 0.7148\n"
     ]
    },
    {
     "data": {
      "text/plain": [
       "<keras.callbacks.History at 0x2039474ccd0>"
      ]
     },
     "execution_count": 75,
     "metadata": {},
     "output_type": "execute_result"
    }
   ],
   "source": [
    "model.fit(X_train,y_train,epochs=20,validation_split=0.1)"
   ]
  },
  {
   "cell_type": "code",
   "execution_count": 76,
   "metadata": {},
   "outputs": [
    {
     "name": "stdout",
     "output_type": "stream",
     "text": [
      "38/38 [==============================] - 1s 19ms/step\n"
     ]
    },
    {
     "data": {
      "text/plain": [
       "(array([0.68871595, 0.84848485]),\n",
       " array([0.8909396 , 0.60264901]),\n",
       " array([0.77688369, 0.70474347]),\n",
       " array([596, 604], dtype=int64))"
      ]
     },
     "execution_count": 76,
     "metadata": {},
     "output_type": "execute_result"
    }
   ],
   "source": [
    "\"\"\"\n",
    "Want to make sure that predictions are correct! More importantly, want to make sure that coughs are correctly classified as coughs. \n",
    "Overall accuracy isn't the best metric - we care more about f-score (precision/recall). \n",
    "Precision: What was correctly classified as cough?  True Coughs/(True Coughs + False Coughs)\n",
    "Recall: Of what was actually a cough, what percentage was correctly classified?  True Coughs/(True Coughs + False Non-Coughs )\n",
    "\"\"\"\n",
    "\n",
    "predictions = model.predict(X_test)\n",
    "reals = []\n",
    "preds = []\n",
    "for i in range(len(predictions)):\n",
    "    reals.append(np.argmax(y_test[i]))\n",
    "    preds.append(np.argmax(predictions[i]))\n",
    "sklearn.metrics.precision_recall_fscore_support(reals,preds) #First column is cough, second column is non-cough"
   ]
  },
  {
   "cell_type": "code",
   "execution_count": null,
   "metadata": {},
   "outputs": [],
   "source": []
  }
 ],
 "metadata": {
  "kernelspec": {
   "display_name": "venv",
   "language": "python",
   "name": "python3"
  },
  "language_info": {
   "codemirror_mode": {
    "name": "ipython",
    "version": 3
   },
   "file_extension": ".py",
   "mimetype": "text/x-python",
   "name": "python",
   "nbconvert_exporter": "python",
   "pygments_lexer": "ipython3",
   "version": "3.9.13"
  },
  "orig_nbformat": 4,
  "vscode": {
   "interpreter": {
    "hash": "48dbb0a74fe3e32a9d52bcfce3108defaa790af10136a3c222d9fda385ec9ffe"
   }
  }
 },
 "nbformat": 4,
 "nbformat_minor": 2
}
