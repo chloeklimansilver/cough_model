{
 "cells": [
  {
   "cell_type": "code",
   "execution_count": 54,
   "metadata": {},
   "outputs": [],
   "source": [
    "import glob\n",
    "import numpy as np\n",
    "import pandas as pd\n",
    "import csv\n",
    "import tensorflow as tf\n",
    "from keras.layers import Dense, Activation, Flatten, Dropout, LSTM, Conv1D, MaxPool1D\n",
    "from keras.models import Sequential, Model\n",
    "from keras import regularizers, optimizers\n",
    "import keras\n",
    "import sklearn\n",
    "from sklearn.model_selection import train_test_split"
   ]
  },
  {
   "cell_type": "code",
   "execution_count": 2,
   "metadata": {},
   "outputs": [],
   "source": [
    "cough_df = pd.read_csv(\"cough_dataset.csv\")\n",
    "del cough_df['filename']\n",
    "cough_df['label']=\"Cough\"\n",
    "no_cough_df = pd.read_csv(\"nocough_dataset.csv\")\n",
    "del no_cough_df['filename']\n",
    "no_cough_df['label']=\"No Cough\"\n",
    "no_cough_df = no_cough_df.sample(frac=1) #Shuffle dataset to ensure no-cough \n",
    "no_cough_df = no_cough_df.head(len(cough_df)) #The two datasets should be the same length "
   ]
  },
  {
   "cell_type": "code",
   "execution_count": 3,
   "metadata": {},
   "outputs": [],
   "source": [
    "full_df = pd.concat([cough_df,no_cough_df])\n",
    "features = full_df.columns[0:-1]\n",
    "labels = pd.get_dummies(full_df['label']).values\n",
    "\"\"\"\n",
    "I chose to one-hot-encode the labels; originally I had assigned 0 to Covid and 1 to No Covid, but this made interpreting results incredibly difficult.\n",
    "pd.get_dummies() turns the results into two columns - if the original value was \"Covid,\" the row is [1,0]. Otherwise, the value is [0,1].\n",
    "Intepreting model predictions becomes much easier; if a higher value is in the first column, the model has predicted Cough, otherwise, the model has predicted No Cough\n",
    "\"\"\"\n",
    "input_data = full_df[features].values"
   ]
  },
  {
   "cell_type": "code",
   "execution_count": 9,
   "metadata": {},
   "outputs": [
    {
     "data": {
      "text/plain": [
       "(12000, 56)"
      ]
     },
     "execution_count": 9,
     "metadata": {},
     "output_type": "execute_result"
    }
   ],
   "source": [
    "input_data.shape"
   ]
  },
  {
   "cell_type": "code",
   "execution_count": 4,
   "metadata": {},
   "outputs": [],
   "source": [
    "X_train, X_test, y_train, y_test =  train_test_split(input_data,labels,test_size=0.1)"
   ]
  },
  {
   "cell_type": "code",
   "execution_count": 78,
   "metadata": {},
   "outputs": [],
   "source": [
    "\"\"\"\n",
    "There isn't a whole lot of logic to this so far - the model needs improving. \n",
    "\"\"\"\n",
    "\n",
    "def get_basic_model():\n",
    "  model = Sequential()\n",
    "  model.add(Conv1D(254, 3, padding='same',input_shape=(56,1),activation='relu'))\n",
    "  model.add(Dense(136,kernel_regularizer='l1'))\n",
    "  model.add(Dropout(.2))\n",
    "  model.add(LSTM(105,return_sequences=True,dropout=0.2))\n",
    "  model.add(Conv1D(75, 2, padding='valid'))\n",
    "  model.add(Dropout(.2))\n",
    "  model.add(Dense(20,kernel_regularizer='l1'))\n",
    "  model.add(Flatten())\n",
    "  model.add(Dense(2,activation=\"sigmoid\")) #Output has two columns (Covid, Non-Covid). Sigmoid activation is also supposed to be best for class-based entropy\n",
    "\n",
    "  model.compile(optimizer='rmsprop',\n",
    "                loss=tf.keras.losses.CategoricalCrossentropy(),\n",
    "                metrics=['accuracy',tf.keras.metrics.Precision(),tf.keras.metrics.Recall(), tf.keras.metrics.CategoricalAccuracy()])\n",
    "  model.summary()\n",
    "  return model"
   ]
  },
  {
   "cell_type": "code",
   "execution_count": 79,
   "metadata": {},
   "outputs": [
    {
     "name": "stdout",
     "output_type": "stream",
     "text": [
      "Model: \"sequential_20\"\n",
      "_________________________________________________________________\n",
      " Layer (type)                Output Shape              Param #   \n",
      "=================================================================\n",
      " conv1d_20 (Conv1D)          (None, 56, 254)           1016      \n",
      "                                                                 \n",
      " dense_54 (Dense)            (None, 56, 136)           34680     \n",
      "                                                                 \n",
      " dropout_39 (Dropout)        (None, 56, 136)           0         \n",
      "                                                                 \n",
      " lstm_26 (LSTM)              (None, 56, 105)           101640    \n",
      "                                                                 \n",
      " conv1d_21 (Conv1D)          (None, 55, 75)            15825     \n",
      "                                                                 \n",
      " dropout_40 (Dropout)        (None, 55, 75)            0         \n",
      "                                                                 \n",
      " dense_55 (Dense)            (None, 55, 20)            1520      \n",
      "                                                                 \n",
      " flatten_19 (Flatten)        (None, 1100)              0         \n",
      "                                                                 \n",
      " dense_56 (Dense)            (None, 2)                 2202      \n",
      "                                                                 \n",
      "=================================================================\n",
      "Total params: 156,883\n",
      "Trainable params: 156,883\n",
      "Non-trainable params: 0\n",
      "_________________________________________________________________\n"
     ]
    }
   ],
   "source": [
    "model = get_basic_model()"
   ]
  },
  {
   "cell_type": "code",
   "execution_count": 81,
   "metadata": {},
   "outputs": [
    {
     "name": "stdout",
     "output_type": "stream",
     "text": [
      "Epoch 1/20\n",
      "304/304 [==============================] - 16s 52ms/step - loss: 0.6744 - accuracy: 0.7638 - precision_18: 0.7760 - recall_18: 0.7412 - categorical_accuracy: 0.7638 - val_loss: 0.6994 - val_accuracy: 0.7454 - val_precision_18: 0.7462 - val_recall_18: 0.7241 - val_categorical_accuracy: 0.7454\n",
      "Epoch 2/20\n",
      "304/304 [==============================] - 19s 62ms/step - loss: 0.6678 - accuracy: 0.7647 - precision_18: 0.7768 - recall_18: 0.7445 - categorical_accuracy: 0.7647 - val_loss: 0.7153 - val_accuracy: 0.7537 - val_precision_18: 0.7641 - val_recall_18: 0.7259 - val_categorical_accuracy: 0.7537\n",
      "Epoch 3/20\n",
      "304/304 [==============================] - 17s 55ms/step - loss: 0.6659 - accuracy: 0.7686 - precision_18: 0.7811 - recall_18: 0.7469 - categorical_accuracy: 0.7686 - val_loss: 0.6758 - val_accuracy: 0.7398 - val_precision_18: 0.7536 - val_recall_18: 0.7250 - val_categorical_accuracy: 0.7398\n",
      "Epoch 4/20\n",
      "304/304 [==============================] - 18s 59ms/step - loss: 0.6656 - accuracy: 0.7716 - precision_18: 0.7842 - recall_18: 0.7502 - categorical_accuracy: 0.7716 - val_loss: 0.6816 - val_accuracy: 0.7611 - val_precision_18: 0.7650 - val_recall_18: 0.7444 - val_categorical_accuracy: 0.7611\n",
      "Epoch 5/20\n",
      "304/304 [==============================] - 19s 64ms/step - loss: 0.6654 - accuracy: 0.7750 - precision_18: 0.7855 - recall_18: 0.7547 - categorical_accuracy: 0.7750 - val_loss: 0.6892 - val_accuracy: 0.7481 - val_precision_18: 0.7516 - val_recall_18: 0.7398 - val_categorical_accuracy: 0.7481\n",
      "Epoch 6/20\n",
      "304/304 [==============================] - 18s 58ms/step - loss: 0.6625 - accuracy: 0.7783 - precision_18: 0.7898 - recall_18: 0.7557 - categorical_accuracy: 0.7783 - val_loss: 0.6795 - val_accuracy: 0.7444 - val_precision_18: 0.7514 - val_recall_18: 0.7361 - val_categorical_accuracy: 0.7444\n",
      "Epoch 7/20\n",
      "304/304 [==============================] - 19s 63ms/step - loss: 0.6644 - accuracy: 0.7742 - precision_18: 0.7822 - recall_18: 0.7579 - categorical_accuracy: 0.7742 - val_loss: 0.7789 - val_accuracy: 0.7380 - val_precision_18: 0.7534 - val_recall_18: 0.7241 - val_categorical_accuracy: 0.7380\n",
      "Epoch 8/20\n",
      "304/304 [==============================] - 18s 61ms/step - loss: 0.6664 - accuracy: 0.7765 - precision_18: 0.7881 - recall_18: 0.7571 - categorical_accuracy: 0.7765 - val_loss: 0.6762 - val_accuracy: 0.7583 - val_precision_18: 0.7624 - val_recall_18: 0.7398 - val_categorical_accuracy: 0.7583\n",
      "Epoch 9/20\n",
      "304/304 [==============================] - 19s 62ms/step - loss: 0.6688 - accuracy: 0.7716 - precision_18: 0.7818 - recall_18: 0.7595 - categorical_accuracy: 0.7716 - val_loss: 0.6953 - val_accuracy: 0.7472 - val_precision_18: 0.7616 - val_recall_18: 0.7306 - val_categorical_accuracy: 0.7472\n",
      "Epoch 10/20\n",
      "304/304 [==============================] - 19s 63ms/step - loss: 0.6623 - accuracy: 0.7785 - precision_18: 0.7894 - recall_18: 0.7609 - categorical_accuracy: 0.7785 - val_loss: 0.7131 - val_accuracy: 0.7380 - val_precision_18: 0.7413 - val_recall_18: 0.7269 - val_categorical_accuracy: 0.7380\n",
      "Epoch 11/20\n",
      "304/304 [==============================] - 19s 61ms/step - loss: 0.6597 - accuracy: 0.7797 - precision_18: 0.7870 - recall_18: 0.7618 - categorical_accuracy: 0.7797 - val_loss: 0.6810 - val_accuracy: 0.7528 - val_precision_18: 0.7613 - val_recall_18: 0.7500 - val_categorical_accuracy: 0.7528\n",
      "Epoch 12/20\n",
      "304/304 [==============================] - 18s 61ms/step - loss: 0.6553 - accuracy: 0.7798 - precision_18: 0.7888 - recall_18: 0.7667 - categorical_accuracy: 0.7798 - val_loss: 0.6816 - val_accuracy: 0.7556 - val_precision_18: 0.7781 - val_recall_18: 0.7111 - val_categorical_accuracy: 0.7556\n",
      "Epoch 13/20\n",
      "304/304 [==============================] - 20s 65ms/step - loss: 0.6595 - accuracy: 0.7780 - precision_18: 0.7873 - recall_18: 0.7579 - categorical_accuracy: 0.7780 - val_loss: 0.7155 - val_accuracy: 0.7556 - val_precision_18: 0.7533 - val_recall_18: 0.7463 - val_categorical_accuracy: 0.7556\n",
      "Epoch 14/20\n",
      "304/304 [==============================] - 18s 61ms/step - loss: 0.6522 - accuracy: 0.7805 - precision_18: 0.7879 - recall_18: 0.7670 - categorical_accuracy: 0.7805 - val_loss: 0.6906 - val_accuracy: 0.7676 - val_precision_18: 0.7752 - val_recall_18: 0.7472 - val_categorical_accuracy: 0.7676\n",
      "Epoch 15/20\n",
      "304/304 [==============================] - 17s 57ms/step - loss: 0.6531 - accuracy: 0.7830 - precision_18: 0.7891 - recall_18: 0.7699 - categorical_accuracy: 0.7830 - val_loss: 0.6879 - val_accuracy: 0.7444 - val_precision_18: 0.7514 - val_recall_18: 0.7333 - val_categorical_accuracy: 0.7444\n",
      "Epoch 16/20\n",
      "304/304 [==============================] - 18s 59ms/step - loss: 0.6489 - accuracy: 0.7867 - precision_18: 0.7910 - recall_18: 0.7706 - categorical_accuracy: 0.7867 - val_loss: 0.6815 - val_accuracy: 0.7611 - val_precision_18: 0.7709 - val_recall_18: 0.7352 - val_categorical_accuracy: 0.7611\n",
      "Epoch 17/20\n",
      "304/304 [==============================] - 17s 56ms/step - loss: 0.6558 - accuracy: 0.7877 - precision_18: 0.7918 - recall_18: 0.7749 - categorical_accuracy: 0.7877 - val_loss: 0.6896 - val_accuracy: 0.7611 - val_precision_18: 0.7664 - val_recall_18: 0.7444 - val_categorical_accuracy: 0.7611\n",
      "Epoch 18/20\n",
      "304/304 [==============================] - 17s 55ms/step - loss: 0.6474 - accuracy: 0.7906 - precision_18: 0.7952 - recall_18: 0.7780 - categorical_accuracy: 0.7906 - val_loss: 0.7198 - val_accuracy: 0.7583 - val_precision_18: 0.7663 - val_recall_18: 0.7500 - val_categorical_accuracy: 0.7583\n",
      "Epoch 19/20\n",
      "304/304 [==============================] - 17s 55ms/step - loss: 0.6440 - accuracy: 0.7895 - precision_18: 0.7959 - recall_18: 0.7795 - categorical_accuracy: 0.7895 - val_loss: 0.7203 - val_accuracy: 0.7380 - val_precision_18: 0.7422 - val_recall_18: 0.7250 - val_categorical_accuracy: 0.7380\n",
      "Epoch 20/20\n",
      "304/304 [==============================] - 18s 59ms/step - loss: 0.6460 - accuracy: 0.7874 - precision_18: 0.7936 - recall_18: 0.7781 - categorical_accuracy: 0.7874 - val_loss: 0.6824 - val_accuracy: 0.7806 - val_precision_18: 0.7805 - val_recall_18: 0.7704 - val_categorical_accuracy: 0.7806\n"
     ]
    },
    {
     "data": {
      "text/plain": [
       "<keras.callbacks.History at 0x20398d9bfd0>"
      ]
     },
     "execution_count": 81,
     "metadata": {},
     "output_type": "execute_result"
    }
   ],
   "source": [
    "model.fit(X_train,y_train,epochs=20,validation_split=0.1)"
   ]
  },
  {
   "cell_type": "code",
   "execution_count": 77,
   "metadata": {},
   "outputs": [
    {
     "name": "stdout",
     "output_type": "stream",
     "text": [
      "38/38 [==============================] - 1s 18ms/step\n"
     ]
    },
    {
     "data": {
      "text/plain": [
       "(array([0.68871595, 0.84848485]),\n",
       " array([0.8909396 , 0.60264901]),\n",
       " array([0.77688369, 0.70474347]),\n",
       " array([596, 604], dtype=int64))"
      ]
     },
     "execution_count": 77,
     "metadata": {},
     "output_type": "execute_result"
    }
   ],
   "source": [
    "\"\"\"\n",
    "Want to make sure that predictions are correct! More importantly, want to make sure that coughs are correctly classified as coughs. \n",
    "Overall accuracy isn't the best metric - we care more about f-score (precision/recall). \n",
    "Precision: What was correctly classified as cough?  True Coughs/(True Coughs + False Coughs)\n",
    "Recall: Of what was actually a cough, what percentage was correctly classified?  True Coughs/(True Coughs + False Non-Coughs )\n",
    "\"\"\"\n",
    "\n",
    "predictions = model.predict(X_test)\n",
    "reals = []\n",
    "preds = []\n",
    "for i in range(len(predictions)):\n",
    "    reals.append(np.argmax(y_test[i]))\n",
    "    preds.append(np.argmax(predictions[i]))\n",
    "sklearn.metrics.precision_recall_fscore_support(reals,preds) #First column is cough, second column is non-cough"
   ]
  },
  {
   "cell_type": "code",
   "execution_count": null,
   "metadata": {},
   "outputs": [],
   "source": []
  }
 ],
 "metadata": {
  "kernelspec": {
   "display_name": "venv",
   "language": "python",
   "name": "python3"
  },
  "language_info": {
   "codemirror_mode": {
    "name": "ipython",
    "version": 3
   },
   "file_extension": ".py",
   "mimetype": "text/x-python",
   "name": "python",
   "nbconvert_exporter": "python",
   "pygments_lexer": "ipython3",
   "version": "3.9.13"
  },
  "orig_nbformat": 4,
  "vscode": {
   "interpreter": {
    "hash": "48dbb0a74fe3e32a9d52bcfce3108defaa790af10136a3c222d9fda385ec9ffe"
   }
  }
 },
 "nbformat": 4,
 "nbformat_minor": 2
}
