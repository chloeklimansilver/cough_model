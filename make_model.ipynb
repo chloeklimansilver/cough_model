{
 "cells": [
  {
   "cell_type": "code",
   "execution_count": 5,
   "metadata": {},
   "outputs": [],
   "source": [
    "import glob\n",
    "import numpy as np\n",
    "import pandas as pd\n",
    "import csv\n",
    "import tensorflow as tf\n",
    "from keras.layers import Dense, Activation, Flatten, Dropout, LSTM, Conv1D\n",
    "from keras.models import Sequential, Model\n",
    "from keras import regularizers, optimizers\n",
    "import keras\n",
    "import sklearn"
   ]
  },
  {
   "cell_type": "code",
   "execution_count": 2,
   "metadata": {},
   "outputs": [],
   "source": [
    "cough_df = pd.read_csv(\"cough_dataset.csv\")\n",
    "del cough_df['filename']\n",
    "cough_df['label']=\"Cough\"\n",
    "no_cough_df = pd.read_csv(\"nocough_dataset.csv\")\n",
    "del no_cough_df['filename']\n",
    "no_cough_df['label']=\"No Cough\"\n",
    "no_cough_df = no_cough_df.sample(frac=1) #Shuffle dataset to ensure no-cough \n",
    "no_cough_df = no_cough_df.head(len(cough_df)) #The two datasets should be the same length "
   ]
  },
  {
   "cell_type": "code",
   "execution_count": 3,
   "metadata": {},
   "outputs": [],
   "source": [
    "full_df = pd.concat([cough_df,no_cough_df])\n",
    "features = full_df.columns[0:-1]\n",
    "labels = pd.get_dummies(full_df['label']).values\n",
    "\"\"\"\n",
    "I chose to one-hot-encode the labels; originally I had assigned 0 to Covid and 1 to No Covid, but this made interpreting results incredibly difficult.\n",
    "pd.get_dummies() turns the results into two columns - if the original value was \"Covid,\" the row is [1,0]. Otherwise, the value is [0,1].\n",
    "Intepreting model predictions becomes much easier; if a higher value is in the first column, the model has predicted Cough, otherwise, the model has predicted No Cough\n",
    "\"\"\"\n",
    "input_data = full_df[features].values"
   ]
  },
  {
   "cell_type": "code",
   "execution_count": 4,
   "metadata": {},
   "outputs": [],
   "source": [
    "X_train, X_test, y_train, y_test =  sklearn.model_selection.train_test_split(input_data,labels,test_size=0.1)"
   ]
  },
  {
   "cell_type": "code",
   "execution_count": 5,
   "metadata": {},
   "outputs": [],
   "source": [
    "\"\"\"\n",
    "There isn't a whole lot of logic to this so far - the model needs improving. \n",
    "\"\"\"\n",
    "\n",
    "def get_basic_model():\n",
    "  model = Sequential()\n",
    "  model.add(Conv1D(124, 33, padding='same',input_shape=(56,1),activation='relu'))\n",
    "  model.add(Dense(106,kernel_regularizer='l1'))\n",
    "  model.add(Dropout(.2))\n",
    "  model.add(LSTM(105,return_sequences=True))\n",
    "  model.add(Dropout(.2))\n",
    "  model.add(Flatten())\n",
    "  model.add(Dense(2,activation=\"sigmoid\")) #Output has two columns (Covid, Non-Covid). Sigmoid activation is also supposed to be best for class-based entropy\n",
    "\n",
    "  model.compile(optimizer='adam',\n",
    "                loss=tf.keras.losses.BinaryCrossentropy(),\n",
    "                metrics=['accuracy',tf.keras.metrics.Precision(),tf.keras.metrics.Recall()])\n",
    "  model.summary()\n",
    "  return model"
   ]
  },
  {
   "cell_type": "code",
   "execution_count": 6,
   "metadata": {},
   "outputs": [
    {
     "name": "stdout",
     "output_type": "stream",
     "text": [
      "Model: \"sequential\"\n",
      "_________________________________________________________________\n",
      " Layer (type)                Output Shape              Param #   \n",
      "=================================================================\n",
      " conv1d (Conv1D)             (None, 56, 124)           4216      \n",
      "                                                                 \n",
      " dense (Dense)               (None, 56, 106)           13250     \n",
      "                                                                 \n",
      " dropout (Dropout)           (None, 56, 106)           0         \n",
      "                                                                 \n",
      " lstm (LSTM)                 (None, 56, 105)           89040     \n",
      "                                                                 \n",
      " dropout_1 (Dropout)         (None, 56, 105)           0         \n",
      "                                                                 \n",
      " flatten (Flatten)           (None, 5880)              0         \n",
      "                                                                 \n",
      " dense_1 (Dense)             (None, 2)                 11762     \n",
      "                                                                 \n",
      "=================================================================\n",
      "Total params: 118,268\n",
      "Trainable params: 118,268\n",
      "Non-trainable params: 0\n",
      "_________________________________________________________________\n"
     ]
    }
   ],
   "source": [
    "model = get_basic_model()"
   ]
  },
  {
   "cell_type": "code",
   "execution_count": 9,
   "metadata": {},
   "outputs": [
    {
     "name": "stdout",
     "output_type": "stream",
     "text": [
      "Epoch 1/20\n",
      "304/304 [==============================] - 21s 61ms/step - loss: 0.8351 - accuracy: 0.7614 - precision: 0.7616 - recall: 0.7613 - val_loss: 0.7783 - val_accuracy: 0.7630 - val_precision: 0.7664 - val_recall: 0.7472\n",
      "Epoch 2/20\n",
      "304/304 [==============================] - 18s 60ms/step - loss: 0.8014 - accuracy: 0.7681 - precision: 0.7674 - recall: 0.7690 - val_loss: 0.7219 - val_accuracy: 0.7676 - val_precision: 0.7666 - val_recall: 0.7694\n",
      "Epoch 3/20\n",
      "304/304 [==============================] - 19s 61ms/step - loss: 0.8165 - accuracy: 0.7719 - precision: 0.7718 - recall: 0.7715 - val_loss: 0.6954 - val_accuracy: 0.7583 - val_precision: 0.7588 - val_recall: 0.7574\n",
      "Epoch 4/20\n",
      "304/304 [==============================] - 15s 49ms/step - loss: 0.6217 - accuracy: 0.7819 - precision: 0.7812 - recall: 0.7826 - val_loss: 0.6965 - val_accuracy: 0.7620 - val_precision: 0.7608 - val_recall: 0.7685\n",
      "Epoch 5/20\n",
      "304/304 [==============================] - 13s 44ms/step - loss: 0.8304 - accuracy: 0.7689 - precision: 0.7687 - recall: 0.7689 - val_loss: 0.7078 - val_accuracy: 0.7741 - val_precision: 0.7755 - val_recall: 0.7741\n",
      "Epoch 6/20\n",
      "304/304 [==============================] - 15s 49ms/step - loss: 0.7944 - accuracy: 0.7780 - precision: 0.7769 - recall: 0.7773 - val_loss: 1.1954 - val_accuracy: 0.7046 - val_precision: 0.7049 - val_recall: 0.7056\n",
      "Epoch 7/20\n",
      "304/304 [==============================] - 14s 46ms/step - loss: 0.8663 - accuracy: 0.7759 - precision: 0.7758 - recall: 0.7758 - val_loss: 0.7923 - val_accuracy: 0.7556 - val_precision: 0.7582 - val_recall: 0.7463\n",
      "Epoch 8/20\n",
      "304/304 [==============================] - 15s 48ms/step - loss: 0.8131 - accuracy: 0.7754 - precision: 0.7759 - recall: 0.7746 - val_loss: 0.8032 - val_accuracy: 0.7333 - val_precision: 0.7335 - val_recall: 0.7315\n",
      "Epoch 9/20\n",
      "304/304 [==============================] - 14s 46ms/step - loss: 0.7001 - accuracy: 0.7776 - precision: 0.7780 - recall: 0.7769 - val_loss: 0.9748 - val_accuracy: 0.7602 - val_precision: 0.7636 - val_recall: 0.7565\n",
      "Epoch 10/20\n",
      "304/304 [==============================] - 13s 44ms/step - loss: 0.7484 - accuracy: 0.7820 - precision: 0.7828 - recall: 0.7817 - val_loss: 0.6816 - val_accuracy: 0.7731 - val_precision: 0.7746 - val_recall: 0.7731\n",
      "Epoch 11/20\n",
      "304/304 [==============================] - 15s 48ms/step - loss: 0.6334 - accuracy: 0.7853 - precision: 0.7849 - recall: 0.7854 - val_loss: 0.7906 - val_accuracy: 0.7111 - val_precision: 0.7136 - val_recall: 0.7083\n",
      "Epoch 12/20\n",
      "304/304 [==============================] - 15s 48ms/step - loss: 0.6430 - accuracy: 0.7844 - precision: 0.7843 - recall: 0.7843 - val_loss: 0.8113 - val_accuracy: 0.7389 - val_precision: 0.7324 - val_recall: 0.7426\n",
      "Epoch 13/20\n",
      "304/304 [==============================] - 14s 45ms/step - loss: 0.7515 - accuracy: 0.7789 - precision: 0.7789 - recall: 0.7792 - val_loss: 0.6388 - val_accuracy: 0.7676 - val_precision: 0.7683 - val_recall: 0.7676\n",
      "Epoch 14/20\n",
      "304/304 [==============================] - 14s 46ms/step - loss: 0.7386 - accuracy: 0.7843 - precision: 0.7846 - recall: 0.7849 - val_loss: 0.7428 - val_accuracy: 0.7694 - val_precision: 0.7722 - val_recall: 0.7657\n",
      "Epoch 15/20\n",
      "304/304 [==============================] - 14s 45ms/step - loss: 0.8353 - accuracy: 0.7784 - precision: 0.7788 - recall: 0.7778 - val_loss: 1.0845 - val_accuracy: 0.7630 - val_precision: 0.7616 - val_recall: 0.7630\n",
      "Epoch 16/20\n",
      "304/304 [==============================] - 14s 47ms/step - loss: 0.7556 - accuracy: 0.7824 - precision: 0.7824 - recall: 0.7811 - val_loss: 0.7345 - val_accuracy: 0.7676 - val_precision: 0.7681 - val_recall: 0.7667\n",
      "Epoch 17/20\n",
      "304/304 [==============================] - 15s 49ms/step - loss: 0.7243 - accuracy: 0.7881 - precision: 0.7879 - recall: 0.7886 - val_loss: 0.6789 - val_accuracy: 0.7704 - val_precision: 0.7711 - val_recall: 0.7704\n",
      "Epoch 18/20\n",
      "304/304 [==============================] - 14s 47ms/step - loss: 0.6652 - accuracy: 0.7921 - precision: 0.7917 - recall: 0.7918 - val_loss: 0.7384 - val_accuracy: 0.7713 - val_precision: 0.7715 - val_recall: 0.7722\n",
      "Epoch 19/20\n",
      "304/304 [==============================] - 14s 46ms/step - loss: 0.7279 - accuracy: 0.7914 - precision: 0.7913 - recall: 0.7925 - val_loss: 0.8425 - val_accuracy: 0.7759 - val_precision: 0.7724 - val_recall: 0.7759\n",
      "Epoch 20/20\n",
      "304/304 [==============================] - 14s 46ms/step - loss: 0.6806 - accuracy: 0.7863 - precision: 0.7863 - recall: 0.7869 - val_loss: 0.7255 - val_accuracy: 0.7648 - val_precision: 0.7638 - val_recall: 0.7667\n"
     ]
    },
    {
     "data": {
      "text/plain": [
       "<keras.callbacks.History at 0x1b30d72dc10>"
      ]
     },
     "execution_count": 9,
     "metadata": {},
     "output_type": "execute_result"
    }
   ],
   "source": [
    "model.fit(X_train,y_train,epochs=20,validation_split=0.1)"
   ]
  },
  {
   "cell_type": "code",
   "execution_count": 8,
   "metadata": {},
   "outputs": [
    {
     "name": "stdout",
     "output_type": "stream",
     "text": [
      "38/38 [==============================] - 1s 20ms/step\n"
     ]
    },
    {
     "data": {
      "text/plain": [
       "(array([0.71940299, 0.78867925]),\n",
       " array([0.81144781, 0.68976898]),\n",
       " array([0.76265823, 0.73591549]),\n",
       " array([594, 606], dtype=int64))"
      ]
     },
     "execution_count": 8,
     "metadata": {},
     "output_type": "execute_result"
    }
   ],
   "source": [
    "\"\"\"\n",
    "Want to make sure that predictions are correct! More importantly, want to make sure that coughs are correctly classified as coughs. \n",
    "Overall accuracy isn't the best metric - we care more about f-score (precision/recall). \n",
    "Precision: What was correctly classified as cough?  True Coughs/(True Coughs + False Coughs)\n",
    "Recall: Of what was actually a cough, what percentage was correctly classified?  True Coughs/(True Coughs + False Non-Coughs )\n",
    "\"\"\"\n",
    "\n",
    "predictions = model.predict(X_test)\n",
    "reals = []\n",
    "preds = []\n",
    "for i in range(len(predictions)):\n",
    "    reals.append(np.argmax(y_test[i]))\n",
    "    preds.append(np.argmax(predictions[i]))\n",
    "sklearn.metrics.precision_recall_fscore_support(reals,preds) #First column is cough, second column is non-cough"
   ]
  }
 ],
 "metadata": {
  "kernelspec": {
   "display_name": "venv",
   "language": "python",
   "name": "python3"
  },
  "language_info": {
   "codemirror_mode": {
    "name": "ipython",
    "version": 3
   },
   "file_extension": ".py",
   "mimetype": "text/x-python",
   "name": "python",
   "nbconvert_exporter": "python",
   "pygments_lexer": "ipython3",
   "version": "3.9.13"
  },
  "orig_nbformat": 4,
  "vscode": {
   "interpreter": {
    "hash": "48dbb0a74fe3e32a9d52bcfce3108defaa790af10136a3c222d9fda385ec9ffe"
   }
  }
 },
 "nbformat": 4,
 "nbformat_minor": 2
}
