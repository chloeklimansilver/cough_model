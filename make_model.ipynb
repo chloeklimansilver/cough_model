{
 "cells": [
  {
   "cell_type": "code",
   "execution_count": 1,
   "metadata": {},
   "outputs": [],
   "source": [
    "import glob\n",
    "import numpy as np\n",
    "import pandas as pd\n",
    "import csv\n",
    "import tensorflow as tf\n",
    "from keras.layers import Dense, Activation, Flatten, Dropout, LSTM, Conv1D\n",
    "from keras.models import Sequential, Model\n",
    "from keras import regularizers, optimizers\n",
    "import keras\n",
    "import sklearn\n",
    "from sklearn.model_selection import train_test_split"
   ]
  },
  {
   "cell_type": "code",
   "execution_count": 2,
   "metadata": {},
   "outputs": [],
   "source": [
    "cough_df = pd.read_csv(\"cough_dataset.csv\")\n",
    "del cough_df['filename']\n",
    "cough_df['label']=\"Cough\"\n",
    "no_cough_df = pd.read_csv(\"nocough_dataset.csv\")\n",
    "del no_cough_df['filename']\n",
    "no_cough_df['label']=\"No Cough\"\n",
    "no_cough_df = no_cough_df.sample(frac=1) #Shuffle dataset to ensure no-cough \n",
    "no_cough_df = no_cough_df.head(len(cough_df)) #The two datasets should be the same length "
   ]
  },
  {
   "cell_type": "code",
   "execution_count": 3,
   "metadata": {},
   "outputs": [],
   "source": [
    "full_df = pd.concat([cough_df,no_cough_df])\n",
    "features = full_df.columns[0:-1]\n",
    "labels = pd.get_dummies(full_df['label']).values\n",
    "\"\"\"\n",
    "I chose to one-hot-encode the labels; originally I had assigned 0 to Covid and 1 to No Covid, but this made interpreting results incredibly difficult.\n",
    "pd.get_dummies() turns the results into two columns - if the original value was \"Covid,\" the row is [1,0]. Otherwise, the value is [0,1].\n",
    "Intepreting model predictions becomes much easier; if a higher value is in the first column, the model has predicted Cough, otherwise, the model has predicted No Cough\n",
    "\"\"\"\n",
    "input_data = full_df[features].values"
   ]
  },
  {
   "cell_type": "code",
   "execution_count": 4,
   "metadata": {},
   "outputs": [],
   "source": [
    "X_train, X_test, y_train, y_test =  train_test_split(input_data,labels,test_size=0.1)"
   ]
  },
  {
   "cell_type": "code",
   "execution_count": 50,
   "metadata": {},
   "outputs": [],
   "source": [
    "\"\"\"\n",
    "There isn't a whole lot of logic to this so far - the model needs improving. \n",
    "\"\"\"\n",
    "\n",
    "def get_basic_model():\n",
    "  model = Sequential()\n",
    "  model.add(Conv1D(254, 3, padding='same',input_shape=(56,1),activation='relu'))\n",
    "  model.add(Dense(136,kernel_regularizer='l1'))\n",
    "  model.add(Dropout(.2))\n",
    "  model.add(LSTM(105,return_sequences=True,dropout=0.2))\n",
    "  model.add(Dropout(.2))\n",
    "  model.add(Dense(20,kernel_regularizer='l1'))\n",
    "  model.add(Flatten())\n",
    "  model.add(Dense(2,activation=\"sigmoid\")) #Output has two columns (Covid, Non-Covid). Sigmoid activation is also supposed to be best for class-based entropy\n",
    "\n",
    "  model.compile(optimizer='rmsprop',\n",
    "                loss=tf.keras.losses.CategoricalCrossentropy(),\n",
    "                metrics=['accuracy',tf.keras.metrics.Precision(),tf.keras.metrics.Recall()])\n",
    "  model.summary()\n",
    "  return model"
   ]
  },
  {
   "cell_type": "code",
   "execution_count": 51,
   "metadata": {},
   "outputs": [
    {
     "name": "stdout",
     "output_type": "stream",
     "text": [
      "Model: \"sequential_13\"\n",
      "_________________________________________________________________\n",
      " Layer (type)                Output Shape              Param #   \n",
      "=================================================================\n",
      " conv1d_13 (Conv1D)          (None, 56, 254)           1016      \n",
      "                                                                 \n",
      " dense_33 (Dense)            (None, 56, 136)           34680     \n",
      "                                                                 \n",
      " dropout_25 (Dropout)        (None, 56, 136)           0         \n",
      "                                                                 \n",
      " lstm_18 (LSTM)              (None, 56, 105)           101640    \n",
      "                                                                 \n",
      " dropout_26 (Dropout)        (None, 56, 105)           0         \n",
      "                                                                 \n",
      " dense_34 (Dense)            (None, 56, 20)            2120      \n",
      "                                                                 \n",
      " flatten_12 (Flatten)        (None, 1120)              0         \n",
      "                                                                 \n",
      " dense_35 (Dense)            (None, 2)                 2242      \n",
      "                                                                 \n",
      "=================================================================\n",
      "Total params: 141,698\n",
      "Trainable params: 141,698\n",
      "Non-trainable params: 0\n",
      "_________________________________________________________________\n"
     ]
    }
   ],
   "source": [
    "model = get_basic_model()"
   ]
  },
  {
   "cell_type": "code",
   "execution_count": 52,
   "metadata": {},
   "outputs": [
    {
     "name": "stdout",
     "output_type": "stream",
     "text": [
      "Epoch 1/20\n",
      "304/304 [==============================] - 27s 75ms/step - loss: 6.3824 - accuracy: 0.6515 - precision_11: 0.6491 - recall_11: 0.6428 - val_loss: 0.9125 - val_accuracy: 0.6222 - val_precision_11: 0.6206 - val_recall_11: 0.6481\n",
      "Epoch 2/20\n",
      "304/304 [==============================] - 18s 58ms/step - loss: 0.8602 - accuracy: 0.6691 - precision_11: 0.6641 - recall_11: 0.6858 - val_loss: 0.8076 - val_accuracy: 0.6907 - val_precision_11: 0.6823 - val_recall_11: 0.7019\n",
      "Epoch 3/20\n",
      "304/304 [==============================] - 19s 64ms/step - loss: 0.8105 - accuracy: 0.6924 - precision_11: 0.6849 - recall_11: 0.7062 - val_loss: 0.7811 - val_accuracy: 0.7028 - val_precision_11: 0.6980 - val_recall_11: 0.7148\n",
      "Epoch 4/20\n",
      "304/304 [==============================] - 17s 57ms/step - loss: 0.7886 - accuracy: 0.7048 - precision_11: 0.7049 - recall_11: 0.7046 - val_loss: 0.7539 - val_accuracy: 0.7037 - val_precision_11: 0.7063 - val_recall_11: 0.6926\n",
      "Epoch 5/20\n",
      "304/304 [==============================] - 17s 55ms/step - loss: 0.7737 - accuracy: 0.7149 - precision_11: 0.7126 - recall_11: 0.7169 - val_loss: 0.7777 - val_accuracy: 0.7120 - val_precision_11: 0.7024 - val_recall_11: 0.7278\n",
      "Epoch 6/20\n",
      "304/304 [==============================] - 17s 57ms/step - loss: 0.7596 - accuracy: 0.7211 - precision_11: 0.7169 - recall_11: 0.7253 - val_loss: 0.7722 - val_accuracy: 0.6991 - val_precision_11: 0.6995 - val_recall_11: 0.6963\n",
      "Epoch 7/20\n",
      "304/304 [==============================] - 21s 68ms/step - loss: 0.7531 - accuracy: 0.7257 - precision_11: 0.7227 - recall_11: 0.7262 - val_loss: 0.7460 - val_accuracy: 0.7250 - val_precision_11: 0.7207 - val_recall_11: 0.7333\n",
      "Epoch 8/20\n",
      "304/304 [==============================] - 20s 66ms/step - loss: 0.7390 - accuracy: 0.7322 - precision_11: 0.7337 - recall_11: 0.7311 - val_loss: 0.7369 - val_accuracy: 0.7407 - val_precision_11: 0.7405 - val_recall_11: 0.7426\n",
      "Epoch 9/20\n",
      "304/304 [==============================] - 23s 74ms/step - loss: 0.7511 - accuracy: 0.7281 - precision_11: 0.7296 - recall_11: 0.7272 - val_loss: 0.7573 - val_accuracy: 0.7352 - val_precision_11: 0.7355 - val_recall_11: 0.7259\n",
      "Epoch 10/20\n",
      "304/304 [==============================] - 21s 70ms/step - loss: 0.7341 - accuracy: 0.7366 - precision_11: 0.7340 - recall_11: 0.7400 - val_loss: 0.7468 - val_accuracy: 0.7278 - val_precision_11: 0.7307 - val_recall_11: 0.7259\n",
      "Epoch 11/20\n",
      "304/304 [==============================] - 20s 66ms/step - loss: 0.7307 - accuracy: 0.7438 - precision_11: 0.7431 - recall_11: 0.7410 - val_loss: 0.7518 - val_accuracy: 0.7130 - val_precision_11: 0.7172 - val_recall_11: 0.7093\n",
      "Epoch 12/20\n",
      "304/304 [==============================] - 17s 56ms/step - loss: 0.7211 - accuracy: 0.7460 - precision_11: 0.7477 - recall_11: 0.7441 - val_loss: 0.7266 - val_accuracy: 0.7435 - val_precision_11: 0.7395 - val_recall_11: 0.7519\n",
      "Epoch 13/20\n",
      "304/304 [==============================] - 22s 71ms/step - loss: 0.7177 - accuracy: 0.7508 - precision_11: 0.7513 - recall_11: 0.7501 - val_loss: 0.7323 - val_accuracy: 0.7306 - val_precision_11: 0.7372 - val_recall_11: 0.7222\n",
      "Epoch 14/20\n",
      "304/304 [==============================] - 22s 72ms/step - loss: 0.7196 - accuracy: 0.7503 - precision_11: 0.7507 - recall_11: 0.7490 - val_loss: 0.7322 - val_accuracy: 0.7435 - val_precision_11: 0.7467 - val_recall_11: 0.7343\n",
      "Epoch 15/20\n",
      "304/304 [==============================] - 21s 68ms/step - loss: 0.7165 - accuracy: 0.7535 - precision_11: 0.7545 - recall_11: 0.7520 - val_loss: 0.7057 - val_accuracy: 0.7593 - val_precision_11: 0.7669 - val_recall_11: 0.7463\n",
      "Epoch 16/20\n",
      "304/304 [==============================] - 18s 58ms/step - loss: 0.7151 - accuracy: 0.7512 - precision_11: 0.7534 - recall_11: 0.7517 - val_loss: 0.7540 - val_accuracy: 0.7380 - val_precision_11: 0.7453 - val_recall_11: 0.7370\n",
      "Epoch 17/20\n",
      "304/304 [==============================] - 25s 83ms/step - loss: 0.7156 - accuracy: 0.7539 - precision_11: 0.7532 - recall_11: 0.7522 - val_loss: 0.7004 - val_accuracy: 0.7667 - val_precision_11: 0.7652 - val_recall_11: 0.7574\n",
      "Epoch 18/20\n",
      "304/304 [==============================] - 18s 60ms/step - loss: 0.7127 - accuracy: 0.7588 - precision_11: 0.7584 - recall_11: 0.7595 - val_loss: 0.7043 - val_accuracy: 0.7509 - val_precision_11: 0.7468 - val_recall_11: 0.7537\n",
      "Epoch 19/20\n",
      "304/304 [==============================] - 20s 65ms/step - loss: 0.7236 - accuracy: 0.7571 - precision_11: 0.7558 - recall_11: 0.7587 - val_loss: 0.6979 - val_accuracy: 0.7574 - val_precision_11: 0.7560 - val_recall_11: 0.7602\n",
      "Epoch 20/20\n",
      "304/304 [==============================] - 18s 59ms/step - loss: 0.7018 - accuracy: 0.7609 - precision_11: 0.7606 - recall_11: 0.7617 - val_loss: 0.7042 - val_accuracy: 0.7602 - val_precision_11: 0.7597 - val_recall_11: 0.7639\n"
     ]
    },
    {
     "data": {
      "text/plain": [
       "<keras.callbacks.History at 0x2037aca7250>"
      ]
     },
     "execution_count": 52,
     "metadata": {},
     "output_type": "execute_result"
    }
   ],
   "source": [
    "model.fit(X_train,y_train,epochs=20,validation_split=0.1)"
   ]
  },
  {
   "cell_type": "code",
   "execution_count": 53,
   "metadata": {},
   "outputs": [
    {
     "name": "stdout",
     "output_type": "stream",
     "text": [
      "38/38 [==============================] - 1s 23ms/step\n"
     ]
    },
    {
     "data": {
      "text/plain": [
       "(array([0.83903421, 0.74537696]),\n",
       " array([0.69966443, 0.86754967]),\n",
       " array([0.76303751, 0.80183627]),\n",
       " array([596, 604], dtype=int64))"
      ]
     },
     "execution_count": 53,
     "metadata": {},
     "output_type": "execute_result"
    }
   ],
   "source": [
    "\"\"\"\n",
    "Want to make sure that predictions are correct! More importantly, want to make sure that coughs are correctly classified as coughs. \n",
    "Overall accuracy isn't the best metric - we care more about f-score (precision/recall). \n",
    "Precision: What was correctly classified as cough?  True Coughs/(True Coughs + False Coughs)\n",
    "Recall: Of what was actually a cough, what percentage was correctly classified?  True Coughs/(True Coughs + False Non-Coughs )\n",
    "\"\"\"\n",
    "\n",
    "predictions = model.predict(X_test)\n",
    "reals = []\n",
    "preds = []\n",
    "for i in range(len(predictions)):\n",
    "    reals.append(np.argmax(y_test[i]))\n",
    "    preds.append(np.argmax(predictions[i]))\n",
    "sklearn.metrics.precision_recall_fscore_support(reals,preds) #First column is cough, second column is non-cough"
   ]
  },
  {
   "cell_type": "code",
   "execution_count": null,
   "metadata": {},
   "outputs": [],
   "source": []
  }
 ],
 "metadata": {
  "kernelspec": {
   "display_name": "venv",
   "language": "python",
   "name": "python3"
  },
  "language_info": {
   "codemirror_mode": {
    "name": "ipython",
    "version": 3
   },
   "file_extension": ".py",
   "mimetype": "text/x-python",
   "name": "python",
   "nbconvert_exporter": "python",
   "pygments_lexer": "ipython3",
   "version": "3.9.13"
  },
  "orig_nbformat": 4,
  "vscode": {
   "interpreter": {
    "hash": "48dbb0a74fe3e32a9d52bcfce3108defaa790af10136a3c222d9fda385ec9ffe"
   }
  }
 },
 "nbformat": 4,
 "nbformat_minor": 2
}
