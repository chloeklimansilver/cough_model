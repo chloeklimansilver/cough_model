{
 "cells": [
  {
   "cell_type": "code",
   "execution_count": 1,
   "id": "5b573519",
   "metadata": {},
   "outputs": [],
   "source": [
    "import csv\n",
    "import youtube_dl\n",
    "import json\n",
    "import os\n",
    "import subprocess"
   ]
  },
  {
   "cell_type": "code",
   "execution_count": null,
   "id": "c07e3021",
   "metadata": {},
   "outputs": [],
   "source": [
    "#gasp"
   ]
  },
  {
   "cell_type": "code",
   "execution_count": 2,
   "id": "253961b9",
   "metadata": {},
   "outputs": [],
   "source": [
    "def downloadFile(label,id_,beginning,end):\n",
    "    ydl_opts = {\n",
    "    'format': 'bestaudio/best',\n",
    "    'postprocessors': [{\n",
    "        'key': 'FFmpegExtractAudio',\n",
    "        'preferredcodec': 'wav',\n",
    "        'preferredquality': '192',\n",
    "    }],\n",
    "    }\n",
    "    ydl_opts['outtmpl']= label+'Sounds/'+id_+\".wav\"\n",
    "    try:\n",
    "        with youtube_dl.YoutubeDL(ydl_opts) as ydl:\n",
    "            ydl.download(['http://www.youtube.com/watch?v='+id_])\n",
    "    except (     youtube_dl.utils.DownloadError,\n",
    "                    youtube_dl.utils.ContentTooShortError,\n",
    "                    youtube_dl.utils.ExtractorError,\n",
    "                    youtube_dl.utils.UnavailableVideoError):\n",
    "        return\n",
    "    cmd = \"ffmpeg -ss \" + str(beginning) + \" -to \" + str(end) + \" -i \" + ydl_opts['outtmpl'] + \" \" + ydl_opts['outtmpl'].split(\".\")[0]+\"_split.wav\"\n",
    "    subprocess.run(\n",
    "        cmd.split(),\n",
    "        cwd='.',   # current working directory\n",
    "        timeout=5,                             # timeout\n",
    "        check=True                             # check for errors\n",
    "        )\n",
    "    os.remove(ydl_opts['outtmpl'])    "
   ]
  },
  {
   "cell_type": "code",
   "execution_count": 21,
   "id": "6286bb35",
   "metadata": {},
   "outputs": [
    {
     "name": "stdout",
     "output_type": "stream",
     "text": [
      "Gasp /m/07s0dtb\n"
     ]
    }
   ],
   "source": [
    "ontology = json.load(open(\"Datasets/ontology.json\"))\n",
    "labels = {}\n",
    "for el in ontology:\n",
    "    id_  = el[\"id\"]\n",
    "    name = el[\"name\"]\n",
    "    labels[id_] = name\n",
    "    if \"gasp\" in name.lower():\n",
    "        print(name,id_)\n",
    "        break"
   ]
  },
  {
   "cell_type": "code",
   "execution_count": null,
   "id": "c9e5b3ba",
   "metadata": {},
   "outputs": [],
   "source": [
    "downloadFile('','1PajbAKd8Kg',0,10)"
   ]
  },
  {
   "cell_type": "code",
   "execution_count": 22,
   "id": "221646d1",
   "metadata": {
    "scrolled": true
   },
   "outputs": [
    {
     "name": "stdout",
     "output_type": "stream",
     "text": [
      "[youtube] 0Ei3BcBr5aE: Downloading webpage\n"
     ]
    },
    {
     "name": "stderr",
     "output_type": "stream",
     "text": [
      "ERROR: Private video\n",
      "Sign in if you've been granted access to this video\n"
     ]
    },
    {
     "name": "stdout",
     "output_type": "stream",
     "text": [
      "[youtube] 0KnYLPxGYf0: Downloading webpage\n",
      "[download] Destination: gaspSounds\\0KnYLPxGYf0.wav\n",
      "[download] 100% of 1.07MiB in 00:17                  \n",
      "[ffmpeg] Correcting container in \"gaspSounds\\0KnYLPxGYf0.wav\"\n",
      "[ffmpeg] Post-process file gaspSounds\\0KnYLPxGYf0.wav exists, skipping\n",
      "[youtube] 4bU0HWzCXMc: Downloading webpage\n",
      "[download] Destination: gaspSounds\\4bU0HWzCXMc.wav\n",
      "[download] 100% of 3.19MiB in 00:40                  \n",
      "[ffmpeg] Correcting container in \"gaspSounds\\4bU0HWzCXMc.wav\"\n",
      "[ffmpeg] Post-process file gaspSounds\\4bU0HWzCXMc.wav exists, skipping\n",
      "[youtube] 5jcOgP-zeTg: Downloading webpage\n",
      "[download] Destination: gaspSounds\\5jcOgP-zeTg.wav\n",
      "[download] 100% of 24.11KiB in 00:00                  \n",
      "[ffmpeg] Correcting container in \"gaspSounds\\5jcOgP-zeTg.wav\"\n",
      "[ffmpeg] Post-process file gaspSounds\\5jcOgP-zeTg.wav exists, skipping\n",
      "[youtube] 68hHsTC4lfI: Downloading webpage\n"
     ]
    },
    {
     "name": "stderr",
     "output_type": "stream",
     "text": [
      "ERROR: Video unavailable\n",
      "This video is no longer available due to a copyright claim by gseries_music\n"
     ]
    },
    {
     "name": "stdout",
     "output_type": "stream",
     "text": [
      "[youtube] 6vSSsSpWUDI: Downloading webpage\n"
     ]
    },
    {
     "name": "stderr",
     "output_type": "stream",
     "text": [
      "ERROR: Video unavailable\n",
      "This video is no longer available because the YouTube account associated with this video has been terminated.\n"
     ]
    },
    {
     "name": "stdout",
     "output_type": "stream",
     "text": [
      "[youtube] 7X-Vqp7T9xI: Downloading webpage\n"
     ]
    },
    {
     "name": "stderr",
     "output_type": "stream",
     "text": [
      "ERROR: Video unavailable\n"
     ]
    },
    {
     "name": "stdout",
     "output_type": "stream",
     "text": [
      "[youtube] 8jW0gmW9SAY: Downloading webpage\n",
      "[download] Destination: gaspSounds\\8jW0gmW9SAY.wav\n",
      "[download] 100% of 7.71MiB in 02:48                 \n",
      "[ffmpeg] Correcting container in \"gaspSounds\\8jW0gmW9SAY.wav\"\n",
      "[ffmpeg] Post-process file gaspSounds\\8jW0gmW9SAY.wav exists, skipping\n",
      "[youtube] B-EO_CbvXnA: Downloading webpage\n",
      "[download] Destination: gaspSounds\\B-EO_CbvXnA.wav\n",
      "[download] 100% of 3.60MiB in 01:13                 \n",
      "[ffmpeg] Correcting container in \"gaspSounds\\B-EO_CbvXnA.wav\"\n",
      "[ffmpeg] Post-process file gaspSounds\\B-EO_CbvXnA.wav exists, skipping\n",
      "[youtube] C27eNiXJAHg: Downloading webpage\n",
      "[download] Destination: gaspSounds\\C27eNiXJAHg.wav\n",
      "[download] 100% of 13.89MiB in 02:51                  \n",
      "[ffmpeg] Correcting container in \"gaspSounds\\C27eNiXJAHg.wav\"\n",
      "[ffmpeg] Post-process file gaspSounds\\C27eNiXJAHg.wav exists, skipping\n",
      "[youtube] FxEwKuTPw20: Downloading webpage\n",
      "[download] Destination: gaspSounds\\FxEwKuTPw20.wav\n",
      "[download] 100% of 4.70MiB in 00:57                  \n",
      "[ffmpeg] Correcting container in \"gaspSounds\\FxEwKuTPw20.wav\"\n",
      "[ffmpeg] Post-process file gaspSounds\\FxEwKuTPw20.wav exists, skipping\n",
      "[youtube] GTek_WTbziQ: Downloading webpage\n",
      "[download] Destination: gaspSounds\\GTek_WTbziQ.wav\n",
      "[download] 100% of 10.21MiB in 03:12                 \n",
      "[ffmpeg] Post-process file gaspSounds\\GTek_WTbziQ.wav exists, skipping\n",
      "[youtube] HHo-v1WTqLU: Downloading webpage\n"
     ]
    },
    {
     "name": "stderr",
     "output_type": "stream",
     "text": [
      "ERROR: Video unavailable\n"
     ]
    },
    {
     "name": "stdout",
     "output_type": "stream",
     "text": [
      "[youtube] Jbn8Lc7WN-U: Downloading webpage\n",
      "[download] Destination: gaspSounds\\Jbn8Lc7WN-U.wav\n",
      "[download] 100% of 7.79MiB in 03:24                    \n",
      "[ffmpeg] Correcting container in \"gaspSounds\\Jbn8Lc7WN-U.wav\"\n",
      "[ffmpeg] Post-process file gaspSounds\\Jbn8Lc7WN-U.wav exists, skipping\n",
      "[youtube] Jhy3s2g2iDo: Downloading webpage\n"
     ]
    },
    {
     "name": "stderr",
     "output_type": "stream",
     "text": [
      "ERROR: Private video\n",
      "Sign in if you've been granted access to this video\n"
     ]
    },
    {
     "name": "stdout",
     "output_type": "stream",
     "text": [
      "[youtube] Pdd2UAQu28g: Downloading webpage\n",
      "[youtube] Pdd2UAQu28g: Downloading MPD manifest\n",
      "[download] Destination: gaspSounds\\Pdd2UAQu28g.wav\n",
      "[download] 100% of 9.63MiB in 02:06                  \n",
      "[ffmpeg] Correcting container in \"gaspSounds\\Pdd2UAQu28g.wav\"\n",
      "[ffmpeg] Post-process file gaspSounds\\Pdd2UAQu28g.wav exists, skipping\n",
      "[youtube] RUhCx_C5eNw: Downloading webpage\n",
      "[youtube] RUhCx_C5eNw: Downloading MPD manifest\n",
      "[download] Destination: gaspSounds\\RUhCx_C5eNw.wav\n",
      "[download] 100% of 6.94MiB in 02:02                  \n",
      "[ffmpeg] Correcting container in \"gaspSounds\\RUhCx_C5eNw.wav\"\n",
      "[ffmpeg] Post-process file gaspSounds\\RUhCx_C5eNw.wav exists, skipping\n",
      "[youtube] TzbvHCxjsZI: Downloading webpage\n",
      "[download] Destination: gaspSounds\\TzbvHCxjsZI.wav\n",
      "[download] 100% of 2.18MiB in 00:30                 \n",
      "[ffmpeg] Post-process file gaspSounds\\TzbvHCxjsZI.wav exists, skipping\n",
      "[youtube] XIGtpkq5u6w: Downloading webpage\n",
      "[download] Destination: gaspSounds\\XIGtpkq5u6w.wav\n",
      "[download] 100% of 313.32KiB in 00:05                  \n",
      "[ffmpeg] Correcting container in \"gaspSounds\\XIGtpkq5u6w.wav\"\n",
      "[ffmpeg] Post-process file gaspSounds\\XIGtpkq5u6w.wav exists, skipping\n",
      "[youtube] Z2rMIZs3j8M: Downloading webpage\n",
      "[download] Destination: gaspSounds\\Z2rMIZs3j8M.wav\n",
      "[download] 100% of 65.92KiB in 00:01                  \n",
      "[ffmpeg] Correcting container in \"gaspSounds\\Z2rMIZs3j8M.wav\"\n",
      "[ffmpeg] Post-process file gaspSounds\\Z2rMIZs3j8M.wav exists, skipping\n",
      "[youtube] _dHlpsz-hhA: Downloading webpage\n",
      "[download] Destination: gaspSounds\\_dHlpsz-hhA.wav\n",
      "[download] 100% of 1.62MiB in 00:30                 \n",
      "[ffmpeg] Correcting container in \"gaspSounds\\_dHlpsz-hhA.wav\"\n",
      "[ffmpeg] Post-process file gaspSounds\\_dHlpsz-hhA.wav exists, skipping\n",
      "[youtube] a9QCiMuyVjQ: Downloading webpage\n",
      "[download] Destination: gaspSounds\\a9QCiMuyVjQ.wav\n",
      "[download] 100% of 357.96KiB in 00:06                  \n",
      "[ffmpeg] Correcting container in \"gaspSounds\\a9QCiMuyVjQ.wav\"\n",
      "[ffmpeg] Post-process file gaspSounds\\a9QCiMuyVjQ.wav exists, skipping\n",
      "[youtube] a_La3oXEbTw: Downloading webpage\n",
      "[download] Destination: gaspSounds\\a_La3oXEbTw.wav\n",
      "[download] 100% of 461.09KiB in 00:08                 \n",
      "[ffmpeg] Post-process file gaspSounds\\a_La3oXEbTw.wav exists, skipping\n",
      "[youtube] cwgGYQBCt5A: Downloading webpage\n",
      "[download] Destination: gaspSounds\\cwgGYQBCt5A.wav\n",
      "[download] 100% of 9.45MiB in 02:14                  \n",
      "[ffmpeg] Correcting container in \"gaspSounds\\cwgGYQBCt5A.wav\"\n",
      "[ffmpeg] Post-process file gaspSounds\\cwgGYQBCt5A.wav exists, skipping\n",
      "[youtube] d1_l_BsGqXo: Downloading webpage\n"
     ]
    },
    {
     "name": "stderr",
     "output_type": "stream",
     "text": [
      "ERROR: Video unavailable\n",
      "This video is no longer available because the YouTube account associated with this video has been terminated.\n"
     ]
    },
    {
     "name": "stdout",
     "output_type": "stream",
     "text": [
      "[youtube] dm8PaPJvrJ8: Downloading webpage\n",
      "[download] Destination: gaspSounds\\dm8PaPJvrJ8.wav\n",
      "[download] 100% of 7.58MiB in 02:51                 \n",
      "[ffmpeg] Correcting container in \"gaspSounds\\dm8PaPJvrJ8.wav\"\n",
      "[ffmpeg] Post-process file gaspSounds\\dm8PaPJvrJ8.wav exists, skipping\n"
     ]
    },
    {
     "ename": "TimeoutExpired",
     "evalue": "Command '['ffmpeg', '-ss', '420.000', '-to', '430.000', '-i', 'gaspSounds/dm8PaPJvrJ8.wav', 'gaspSounds/dm8PaPJvrJ8_split.wav']' timed out after 5.0 seconds",
     "output_type": "error",
     "traceback": [
      "\u001b[1;31m---------------------------------------------------------------------------\u001b[0m",
      "\u001b[1;31mTimeoutExpired\u001b[0m                            Traceback (most recent call last)",
      "\u001b[1;32m~\\AppData\\Local\\Temp\\ipykernel_22984\\461835548.py\u001b[0m in \u001b[0;36m<module>\u001b[1;34m\u001b[0m\n\u001b[0;32m     11\u001b[0m     \u001b[0me\u001b[0m \u001b[1;33m=\u001b[0m \u001b[0mline\u001b[0m\u001b[1;33m[\u001b[0m\u001b[1;36m2\u001b[0m\u001b[1;33m]\u001b[0m\u001b[1;33m\u001b[0m\u001b[1;33m\u001b[0m\u001b[0m\n\u001b[0;32m     12\u001b[0m     \u001b[1;32mif\u001b[0m \u001b[0mlabel\u001b[0m \u001b[1;33m!=\u001b[0m \u001b[1;34m\"/m/07s0dtb\"\u001b[0m\u001b[1;33m:\u001b[0m \u001b[1;32mcontinue\u001b[0m\u001b[1;33m\u001b[0m\u001b[1;33m\u001b[0m\u001b[0m\n\u001b[1;32m---> 13\u001b[1;33m     \u001b[0mdownloadFile\u001b[0m\u001b[1;33m(\u001b[0m\u001b[1;34m'gasp'\u001b[0m\u001b[1;33m,\u001b[0m\u001b[0mid_\u001b[0m\u001b[1;33m,\u001b[0m\u001b[0mb\u001b[0m\u001b[1;33m,\u001b[0m\u001b[0me\u001b[0m\u001b[1;33m)\u001b[0m\u001b[1;33m\u001b[0m\u001b[1;33m\u001b[0m\u001b[0m\n\u001b[0m",
      "\u001b[1;32m~\\AppData\\Local\\Temp\\ipykernel_22984\\762133641.py\u001b[0m in \u001b[0;36mdownloadFile\u001b[1;34m(label, id_, beginning, end)\u001b[0m\n\u001b[0;32m     18\u001b[0m         \u001b[1;32mreturn\u001b[0m\u001b[1;33m\u001b[0m\u001b[1;33m\u001b[0m\u001b[0m\n\u001b[0;32m     19\u001b[0m     \u001b[0mcmd\u001b[0m \u001b[1;33m=\u001b[0m \u001b[1;34m\"ffmpeg -ss \"\u001b[0m \u001b[1;33m+\u001b[0m \u001b[0mstr\u001b[0m\u001b[1;33m(\u001b[0m\u001b[0mbeginning\u001b[0m\u001b[1;33m)\u001b[0m \u001b[1;33m+\u001b[0m \u001b[1;34m\" -to \"\u001b[0m \u001b[1;33m+\u001b[0m \u001b[0mstr\u001b[0m\u001b[1;33m(\u001b[0m\u001b[0mend\u001b[0m\u001b[1;33m)\u001b[0m \u001b[1;33m+\u001b[0m \u001b[1;34m\" -i \"\u001b[0m \u001b[1;33m+\u001b[0m \u001b[0mydl_opts\u001b[0m\u001b[1;33m[\u001b[0m\u001b[1;34m'outtmpl'\u001b[0m\u001b[1;33m]\u001b[0m \u001b[1;33m+\u001b[0m \u001b[1;34m\" \"\u001b[0m \u001b[1;33m+\u001b[0m \u001b[0mydl_opts\u001b[0m\u001b[1;33m[\u001b[0m\u001b[1;34m'outtmpl'\u001b[0m\u001b[1;33m]\u001b[0m\u001b[1;33m.\u001b[0m\u001b[0msplit\u001b[0m\u001b[1;33m(\u001b[0m\u001b[1;34m\".\"\u001b[0m\u001b[1;33m)\u001b[0m\u001b[1;33m[\u001b[0m\u001b[1;36m0\u001b[0m\u001b[1;33m]\u001b[0m\u001b[1;33m+\u001b[0m\u001b[1;34m\"_split.wav\"\u001b[0m\u001b[1;33m\u001b[0m\u001b[1;33m\u001b[0m\u001b[0m\n\u001b[1;32m---> 20\u001b[1;33m     subprocess.run(\n\u001b[0m\u001b[0;32m     21\u001b[0m         \u001b[0mcmd\u001b[0m\u001b[1;33m.\u001b[0m\u001b[0msplit\u001b[0m\u001b[1;33m(\u001b[0m\u001b[1;33m)\u001b[0m\u001b[1;33m,\u001b[0m\u001b[1;33m\u001b[0m\u001b[1;33m\u001b[0m\u001b[0m\n\u001b[0;32m     22\u001b[0m         \u001b[0mcwd\u001b[0m\u001b[1;33m=\u001b[0m\u001b[1;34m'.'\u001b[0m\u001b[1;33m,\u001b[0m   \u001b[1;31m# current working directory\u001b[0m\u001b[1;33m\u001b[0m\u001b[1;33m\u001b[0m\u001b[0m\n",
      "\u001b[1;32m~\\anaconda3\\lib\\subprocess.py\u001b[0m in \u001b[0;36mrun\u001b[1;34m(input, capture_output, timeout, check, *popenargs, **kwargs)\u001b[0m\n\u001b[0;32m    505\u001b[0m     \u001b[1;32mwith\u001b[0m \u001b[0mPopen\u001b[0m\u001b[1;33m(\u001b[0m\u001b[1;33m*\u001b[0m\u001b[0mpopenargs\u001b[0m\u001b[1;33m,\u001b[0m \u001b[1;33m**\u001b[0m\u001b[0mkwargs\u001b[0m\u001b[1;33m)\u001b[0m \u001b[1;32mas\u001b[0m \u001b[0mprocess\u001b[0m\u001b[1;33m:\u001b[0m\u001b[1;33m\u001b[0m\u001b[1;33m\u001b[0m\u001b[0m\n\u001b[0;32m    506\u001b[0m         \u001b[1;32mtry\u001b[0m\u001b[1;33m:\u001b[0m\u001b[1;33m\u001b[0m\u001b[1;33m\u001b[0m\u001b[0m\n\u001b[1;32m--> 507\u001b[1;33m             \u001b[0mstdout\u001b[0m\u001b[1;33m,\u001b[0m \u001b[0mstderr\u001b[0m \u001b[1;33m=\u001b[0m \u001b[0mprocess\u001b[0m\u001b[1;33m.\u001b[0m\u001b[0mcommunicate\u001b[0m\u001b[1;33m(\u001b[0m\u001b[0minput\u001b[0m\u001b[1;33m,\u001b[0m \u001b[0mtimeout\u001b[0m\u001b[1;33m=\u001b[0m\u001b[0mtimeout\u001b[0m\u001b[1;33m)\u001b[0m\u001b[1;33m\u001b[0m\u001b[1;33m\u001b[0m\u001b[0m\n\u001b[0m\u001b[0;32m    508\u001b[0m         \u001b[1;32mexcept\u001b[0m \u001b[0mTimeoutExpired\u001b[0m \u001b[1;32mas\u001b[0m \u001b[0mexc\u001b[0m\u001b[1;33m:\u001b[0m\u001b[1;33m\u001b[0m\u001b[1;33m\u001b[0m\u001b[0m\n\u001b[0;32m    509\u001b[0m             \u001b[0mprocess\u001b[0m\u001b[1;33m.\u001b[0m\u001b[0mkill\u001b[0m\u001b[1;33m(\u001b[0m\u001b[1;33m)\u001b[0m\u001b[1;33m\u001b[0m\u001b[1;33m\u001b[0m\u001b[0m\n",
      "\u001b[1;32m~\\anaconda3\\lib\\subprocess.py\u001b[0m in \u001b[0;36mcommunicate\u001b[1;34m(self, input, timeout)\u001b[0m\n\u001b[0;32m   1151\u001b[0m                 \u001b[0mself\u001b[0m\u001b[1;33m.\u001b[0m\u001b[0m_communication_started\u001b[0m \u001b[1;33m=\u001b[0m \u001b[1;32mTrue\u001b[0m\u001b[1;33m\u001b[0m\u001b[1;33m\u001b[0m\u001b[0m\n\u001b[0;32m   1152\u001b[0m \u001b[1;33m\u001b[0m\u001b[0m\n\u001b[1;32m-> 1153\u001b[1;33m             \u001b[0msts\u001b[0m \u001b[1;33m=\u001b[0m \u001b[0mself\u001b[0m\u001b[1;33m.\u001b[0m\u001b[0mwait\u001b[0m\u001b[1;33m(\u001b[0m\u001b[0mtimeout\u001b[0m\u001b[1;33m=\u001b[0m\u001b[0mself\u001b[0m\u001b[1;33m.\u001b[0m\u001b[0m_remaining_time\u001b[0m\u001b[1;33m(\u001b[0m\u001b[0mendtime\u001b[0m\u001b[1;33m)\u001b[0m\u001b[1;33m)\u001b[0m\u001b[1;33m\u001b[0m\u001b[1;33m\u001b[0m\u001b[0m\n\u001b[0m\u001b[0;32m   1154\u001b[0m \u001b[1;33m\u001b[0m\u001b[0m\n\u001b[0;32m   1155\u001b[0m         \u001b[1;32mreturn\u001b[0m \u001b[1;33m(\u001b[0m\u001b[0mstdout\u001b[0m\u001b[1;33m,\u001b[0m \u001b[0mstderr\u001b[0m\u001b[1;33m)\u001b[0m\u001b[1;33m\u001b[0m\u001b[1;33m\u001b[0m\u001b[0m\n",
      "\u001b[1;32m~\\anaconda3\\lib\\subprocess.py\u001b[0m in \u001b[0;36mwait\u001b[1;34m(self, timeout)\u001b[0m\n\u001b[0;32m   1187\u001b[0m             \u001b[0mendtime\u001b[0m \u001b[1;33m=\u001b[0m \u001b[0m_time\u001b[0m\u001b[1;33m(\u001b[0m\u001b[1;33m)\u001b[0m \u001b[1;33m+\u001b[0m \u001b[0mtimeout\u001b[0m\u001b[1;33m\u001b[0m\u001b[1;33m\u001b[0m\u001b[0m\n\u001b[0;32m   1188\u001b[0m         \u001b[1;32mtry\u001b[0m\u001b[1;33m:\u001b[0m\u001b[1;33m\u001b[0m\u001b[1;33m\u001b[0m\u001b[0m\n\u001b[1;32m-> 1189\u001b[1;33m             \u001b[1;32mreturn\u001b[0m \u001b[0mself\u001b[0m\u001b[1;33m.\u001b[0m\u001b[0m_wait\u001b[0m\u001b[1;33m(\u001b[0m\u001b[0mtimeout\u001b[0m\u001b[1;33m=\u001b[0m\u001b[0mtimeout\u001b[0m\u001b[1;33m)\u001b[0m\u001b[1;33m\u001b[0m\u001b[1;33m\u001b[0m\u001b[0m\n\u001b[0m\u001b[0;32m   1190\u001b[0m         \u001b[1;32mexcept\u001b[0m \u001b[0mKeyboardInterrupt\u001b[0m\u001b[1;33m:\u001b[0m\u001b[1;33m\u001b[0m\u001b[1;33m\u001b[0m\u001b[0m\n\u001b[0;32m   1191\u001b[0m             \u001b[1;31m# https://bugs.python.org/issue25942\u001b[0m\u001b[1;33m\u001b[0m\u001b[1;33m\u001b[0m\u001b[0m\n",
      "\u001b[1;32m~\\anaconda3\\lib\\subprocess.py\u001b[0m in \u001b[0;36m_wait\u001b[1;34m(self, timeout)\u001b[0m\n\u001b[0;32m   1471\u001b[0m                                                      timeout_millis)\n\u001b[0;32m   1472\u001b[0m                 \u001b[1;32mif\u001b[0m \u001b[0mresult\u001b[0m \u001b[1;33m==\u001b[0m \u001b[0m_winapi\u001b[0m\u001b[1;33m.\u001b[0m\u001b[0mWAIT_TIMEOUT\u001b[0m\u001b[1;33m:\u001b[0m\u001b[1;33m\u001b[0m\u001b[1;33m\u001b[0m\u001b[0m\n\u001b[1;32m-> 1473\u001b[1;33m                     \u001b[1;32mraise\u001b[0m \u001b[0mTimeoutExpired\u001b[0m\u001b[1;33m(\u001b[0m\u001b[0mself\u001b[0m\u001b[1;33m.\u001b[0m\u001b[0margs\u001b[0m\u001b[1;33m,\u001b[0m \u001b[0mtimeout\u001b[0m\u001b[1;33m)\u001b[0m\u001b[1;33m\u001b[0m\u001b[1;33m\u001b[0m\u001b[0m\n\u001b[0m\u001b[0;32m   1474\u001b[0m                 \u001b[0mself\u001b[0m\u001b[1;33m.\u001b[0m\u001b[0mreturncode\u001b[0m \u001b[1;33m=\u001b[0m \u001b[0m_winapi\u001b[0m\u001b[1;33m.\u001b[0m\u001b[0mGetExitCodeProcess\u001b[0m\u001b[1;33m(\u001b[0m\u001b[0mself\u001b[0m\u001b[1;33m.\u001b[0m\u001b[0m_handle\u001b[0m\u001b[1;33m)\u001b[0m\u001b[1;33m\u001b[0m\u001b[1;33m\u001b[0m\u001b[0m\n\u001b[0;32m   1475\u001b[0m             \u001b[1;32mreturn\u001b[0m \u001b[0mself\u001b[0m\u001b[1;33m.\u001b[0m\u001b[0mreturncode\u001b[0m\u001b[1;33m\u001b[0m\u001b[1;33m\u001b[0m\u001b[0m\n",
      "\u001b[1;31mTimeoutExpired\u001b[0m: Command '['ffmpeg', '-ss', '420.000', '-to', '430.000', '-i', 'gaspSounds/dm8PaPJvrJ8.wav', 'gaspSounds/dm8PaPJvrJ8_split.wav']' timed out after 5.0 seconds"
     ]
    }
   ],
   "source": [
    "f = open(\"Datasets/balanced_train_segments.csv\")\n",
    "f.readline()\n",
    "f.readline()\n",
    "f.readline()\n",
    "reader = csv.reader(f)\n",
    "toDownload = []\n",
    "for line in reader:\n",
    "    label = line[3].replace('\"','').strip()\n",
    "    id_ = line[0]\n",
    "    b = line[1].strip()\n",
    "    e = line[2]\n",
    "    if label != \"/m/07s0dtb\": continue\n",
    "    downloadFile('gasp',id_,b,e)\n"
   ]
  },
  {
   "cell_type": "code",
   "execution_count": null,
   "id": "0662096d",
   "metadata": {
    "scrolled": true
   },
   "outputs": [],
   "source": [
    "\n",
    "id_ = \"1PajbAKd8Kg\"\n",
    "ydl_opts['outtmpl']= 'coughSounds/'+id_+\".wav\"\n",
    "with youtube_dl.YoutubeDL(ydl_opts) as ydl:\n",
    "    ydl.download(['http://www.youtube.com/watch?v='+id_])"
   ]
  },
  {
   "cell_type": "code",
   "execution_count": null,
   "id": "077a877a",
   "metadata": {
    "scrolled": true
   },
   "outputs": [],
   "source": [
    "\n",
    "start =0\n",
    "finish = 10\n",
    "cmd = \"ffmpeg -ss 0 -t 10 -i \" + ydl_opts['outtmpl'] + \" \" + ydl_opts['outtmpl'].split(\".\")[0]+\"_split.wav\"\n",
    "cmd"
   ]
  },
  {
   "cell_type": "code",
   "execution_count": null,
   "id": "29128949",
   "metadata": {},
   "outputs": [],
   "source": [
    "x"
   ]
  },
  {
   "cell_type": "code",
   "execution_count": null,
   "id": "daffaf83",
   "metadata": {},
   "outputs": [],
   "source": []
  },
  {
   "cell_type": "code",
   "execution_count": null,
   "id": "1c50bf3a",
   "metadata": {},
   "outputs": [],
   "source": []
  }
 ],
 "metadata": {
  "kernelspec": {
   "display_name": "Python 3 (ipykernel)",
   "language": "python",
   "name": "python3"
  },
  "language_info": {
   "codemirror_mode": {
    "name": "ipython",
    "version": 3
   },
   "file_extension": ".py",
   "mimetype": "text/x-python",
   "name": "python",
   "nbconvert_exporter": "python",
   "pygments_lexer": "ipython3",
   "version": "3.9.13"
  }
 },
 "nbformat": 4,
 "nbformat_minor": 5
}
