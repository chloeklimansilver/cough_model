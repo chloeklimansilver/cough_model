{
 "cells": [
  {
   "cell_type": "code",
   "execution_count": 5,
   "id": "36ec293b",
   "metadata": {},
   "outputs": [
    {
     "ename": "ModuleNotFoundError",
     "evalue": "No module named 'soundfile'",
     "output_type": "error",
     "traceback": [
      "\u001b[1;31m---------------------------------------------------------------------------\u001b[0m",
      "\u001b[1;31mModuleNotFoundError\u001b[0m                       Traceback (most recent call last)",
      "\u001b[1;32m~\\AppData\\Local\\Temp\\ipykernel_21360\\3522754858.py\u001b[0m in \u001b[0;36m<module>\u001b[1;34m\u001b[0m\n\u001b[0;32m     10\u001b[0m \u001b[1;32mimport\u001b[0m \u001b[0mscipy\u001b[0m\u001b[1;33m\u001b[0m\u001b[1;33m\u001b[0m\u001b[0m\n\u001b[0;32m     11\u001b[0m \u001b[1;32mfrom\u001b[0m \u001b[0mscipy\u001b[0m\u001b[1;33m.\u001b[0m\u001b[0mio\u001b[0m \u001b[1;32mimport\u001b[0m \u001b[0mwavfile\u001b[0m\u001b[1;33m\u001b[0m\u001b[1;33m\u001b[0m\u001b[0m\n\u001b[1;32m---> 12\u001b[1;33m \u001b[1;32mimport\u001b[0m \u001b[0msoundfile\u001b[0m \u001b[1;32mas\u001b[0m \u001b[0msf\u001b[0m\u001b[1;33m\u001b[0m\u001b[1;33m\u001b[0m\u001b[0m\n\u001b[0m\u001b[0;32m     13\u001b[0m \u001b[1;32mimport\u001b[0m \u001b[0mresampy\u001b[0m\u001b[1;33m\u001b[0m\u001b[1;33m\u001b[0m\u001b[0m\n",
      "\u001b[1;31mModuleNotFoundError\u001b[0m: No module named 'soundfile'"
     ]
    }
   ],
   "source": [
    "import csv\n",
    "import datetime\n",
    "import random\n",
    "import glob\n",
    "import os\n",
    "import tensorflow as tf\n",
    "import tensorflow_hub as hub\n",
    "\n",
    "import numpy as np\n",
    "import scipy\n",
    "from scipy.io import wavfile\n",
    "import soundfile as sf\n",
    "import resampy\n"
   ]
  },
  {
   "cell_type": "code",
   "execution_count": null,
   "id": "8e614429",
   "metadata": {},
   "outputs": [],
   "source": [
    "\"\"\"\n",
    "Data is in epoch timestamp; should be in dataframe\n",
    "\"\"\"\n",
    "def format_timestamp(time):\n",
    "    return datetime.datetime.fromtimestamp(int(time))"
   ]
  },
  {
   "cell_type": "code",
   "execution_count": null,
   "id": "b167b851",
   "metadata": {},
   "outputs": [],
   "source": [
    "files = glob.glob(\"../..//../Desktop/archive/KETI/*/pir.csv\")\n",
    "pir_data = [] #Format of this will depend on how much data we are collecting, what we need it for\n",
    "for file in files:\n",
    "    day = []\n",
    "    f = open(file)\n",
    "    reader = csv.reader(f)\n",
    "    for line in reader:\n",
    "        time = format_timestamp(line[0])\n",
    "        ts = float(line[1])\n",
    "        day.append((time,ts))\n",
    "    pir_data.append(day)"
   ]
  },
  {
   "cell_type": "code",
   "execution_count": null,
   "id": "907e61a1",
   "metadata": {},
   "outputs": [],
   "source": [
    "\"\"\"\n",
    "Timedelta to minutes (for checking against alerts)\n",
    "\"\"\"\n",
    "def get_minutes(td):\n",
    "    return td.seconds/60"
   ]
  },
  {
   "cell_type": "code",
   "execution_count": null,
   "id": "9b7e5d46",
   "metadata": {},
   "outputs": [],
   "source": [
    "\"\"\"\n",
    "If you only want to look at the data between certain times\n",
    "\"\"\"\n",
    "def get_modified_data(data,start,end=None):\n",
    "    if end == None:\n",
    "        return [el for el in data if el[0].time() >= start]\n",
    "    return [el for el in data if (el[0].time() >= start and el[0].time() <= end)]\n"
   ]
  },
  {
   "cell_type": "code",
   "execution_count": null,
   "id": "d152dd10",
   "metadata": {},
   "outputs": [],
   "source": [
    "NIGHT_HOUR = 21 #should change/be personalised?\n",
    "MORNING_HOUR = 8\n",
    "ALERT_TIME = 30 #should be changed\n",
    "LIM_TIMESTAMP_STREAK = 10  # Number of timestamps for which there's no movement"
   ]
  },
  {
   "cell_type": "code",
   "execution_count": null,
   "id": "bc132fc7",
   "metadata": {},
   "outputs": [],
   "source": [
    "\"\"\"\n",
    "Check if person is in one room for too long\n",
    "\"Too long\" is room-dependent, but this is just assuming a basic rule of 30 minutes (for bathrooms and stuff)\n",
    "\n",
    "The first timestamp of movement is stored, and the subsequent movement timestamps are compared to this one. If the timedelta is >= the max time (30 minutes), an alert would be raised.\n",
    "If there has been a period of (10) consecutive timestamps with no motion, there is an assumption FOR NOW that the person has left the room. If this is the case, all stored variables are reset.\n",
    "The next timestamp of movemente after this would be stored and the process would begin again. \n",
    "\n",
    "\n",
    "To check/change:\n",
    "10 periods of no movement is arbitrary\n",
    "What happens with the PIR data if someone is asleep/staying still but still in the room? \n",
    "30 minutes in the bathroom being too long is arbitrary\n",
    "If the PIR sensor does give us non-binary data, what can I do with that?\n",
    "Do I check other rooms as well?\n",
    "\"\"\"\n",
    "\n",
    "def checkRoomLength(room_data): \n",
    "    start_idx = -1\n",
    "    no_motion_streak = 0\n",
    "    \n",
    "    for i in range(len(room_data)):\n",
    "        ts, val = room_data[i]\n",
    "        if val == 0 and start_idx == -1: #Room is empty\n",
    "            continue\n",
    "        if val == 0 and start_idx != -1:\n",
    "            no_motion_streak +=1\n",
    "        if no_motion_streak > LIM_TIMESTAMP_STREAK: #assume at this point that nobody is in the room\n",
    "            start_idx = -1\n",
    "            no_motion_streak = 0\n",
    "            continue\n",
    "        if start_idx == -1: start_idx = i #initialise beginning of movement period\n",
    "        movement_delta = room_data[i][0]-room_data[start_idx][0]\n",
    "        minutes =  get_minutes(movement_delta) # convert to minutes\n",
    "        if minutes > ALERT_TIME: \n",
    "            print(minutes)\n",
    "            print(\"Too long!\") #raise alert\n",
    "            return\n",
    "    return"
   ]
  },
  {
   "cell_type": "code",
   "execution_count": null,
   "id": "25200322",
   "metadata": {},
   "outputs": [],
   "source": [
    "\"\"\"\n",
    "Will need to check multiple rooms and door audio (door audio I don't have)\n",
    "This also currently assumes 24 hour time. \n",
    "How would this function be called? Upon hearing a door sound or upon there not being activity for a certain amount of time? (or just routinely check) \n",
    "The way this function would be written would depend on its purpose.\n",
    "\n",
    "Currently: this assumes that a door sound has been heard. \n",
    "This code checks through all the rooms, and if movement is seen within a certain time buffer, doesn't raise an alert. \n",
    "Assumptions/choices to be made:\n",
    "1) I need to decide at what point no activity within any room is concerning. This can't be too short of a time, but also can't be too long!\n",
    "2) This code is assuming door sounds can be detected\n",
    "3) What happens if someone has a cat/dog? \n",
    "\"\"\"\n",
    "BUFFER = datetime.timedelta(minutes=30)\n",
    "def leftAtNight(door_timestamp, room_data):\n",
    "    if door_timestamp.hour >= MORNING_HOUR and door_timestamp.hour < NIGHT_HOUR: return #f the timestamp isn't in the period we care about, no need to check\n",
    "    toRaiseAlert = True\n",
    "    for room in room_data:\n",
    "        data = get_modified_data(room,door_timestamp,door_timestamp + BUFFER)\n",
    "        #Need to decide at what point lack of activity would be concerning\n",
    "        for (ts,val) in data: \n",
    "            if val > 0: \n",
    "                toRaiseAlert = False #Does action need to be seen for a certain amount of sampling? Or just any action\n",
    "                break \n",
    "        if toRaiseAlert == False: break\n",
    "    if toRaiseAlert: \n",
    "        print(\"Oh no, Alert\")\n",
    "                \n",
    "    \n",
    "   \n",
    "    return     \n",
    "        \n",
    "    \n",
    "    "
   ]
  },
  {
   "cell_type": "code",
   "execution_count": 3,
   "id": "18932fb6",
   "metadata": {},
   "outputs": [],
   "source": [
    "def class_names_from_csv(class_map_csv_text):\n",
    "  \"\"\"Returns list of class names corresponding to score vector.\"\"\"\n",
    "  class_names = []\n",
    "  with tf.io.gfile.GFile(class_map_csv_text) as csvfile:\n",
    "    reader = csv.DictReader(csvfile)\n",
    "    for row in reader:\n",
    "      class_names.append(row['display_name'])\n",
    "\n",
    "  return class_names\n",
    "\n"
   ]
  },
  {
   "cell_type": "code",
   "execution_count": 4,
   "id": "554c3b30",
   "metadata": {},
   "outputs": [],
   "source": [
    "def ensure_sample_rate(original_sample_rate, waveform, desired_sample_rate=16000):\n",
    "  \"\"\"Resample waveform if required.\"\"\"\n",
    "  if original_sample_rate != desired_sample_rate:\n",
    "    desired_length = int(round(float(len(waveform)) / original_sample_rate * desired_sample_rate))\n",
    "    waveform = scipy.signal.resample(waveform, desired_length)\n",
    "  return desired_sample_rate, waveform"
   ]
  },
  {
   "cell_type": "code",
   "execution_count": 6,
   "id": "3de1ae16",
   "metadata": {},
   "outputs": [],
   "source": [
    "def getModel():\n",
    "    os.environ[\"TFHUB_CACHE_DIR\"] = \"\\\\Users\\\\chloe\\\\Documents\\\\tensorflow\"\n",
    "    model = hub.load('https://tfhub.dev/google/yamnet/1')\n",
    "    class_map_path = model.class_map_path().numpy()\n",
    "    class_names = class_names_from_csv(class_map_path)"
   ]
  },
  {
   "cell_type": "code",
   "execution_count": null,
   "id": "a3f1a87f",
   "metadata": {},
   "outputs": [],
   "source": [
    "\"\"\"\n",
    "Get a long sound, break it up, get coughs?\n",
    "\"\"\""
   ]
  }
 ],
 "metadata": {
  "kernelspec": {
   "display_name": "Python 3 (ipykernel)",
   "language": "python",
   "name": "python3"
  },
  "language_info": {
   "codemirror_mode": {
    "name": "ipython",
    "version": 3
   },
   "file_extension": ".py",
   "mimetype": "text/x-python",
   "name": "python",
   "nbconvert_exporter": "python",
   "pygments_lexer": "ipython3",
   "version": "3.9.13"
  }
 },
 "nbformat": 4,
 "nbformat_minor": 5
}
