{
 "cells": [
  {
   "cell_type": "code",
   "execution_count": null,
   "id": "fdf50d6b",
   "metadata": {},
   "outputs": [],
   "source": [
    "\"\"\"\n",
    "Overall things to think about/modify:\n",
    "(in no particular order)\n",
    "1) How does the PIR data work? Comments about this are throughout the functions, but need to understand how it works for various functions\n",
    "2) How are the functions going to be called? Will the classification be run across a specific time period (say an hour), and then the data from that be passed onto all various functions?\n",
    "The structure of the programme will impact the functions - so the below functions WILL change\n",
    "\n",
    "\n",
    "\"\"\""
   ]
  },
  {
   "cell_type": "code",
   "execution_count": 1,
   "id": "36ec293b",
   "metadata": {},
   "outputs": [
    {
     "name": "stderr",
     "output_type": "stream",
     "text": [
      "C:\\Users\\chloe\\anaconda3\\lib\\site-packages\\paramiko\\transport.py:219: CryptographyDeprecationWarning: Blowfish has been deprecated\n",
      "  \"class\": algorithms.Blowfish,\n"
     ]
    }
   ],
   "source": [
    "import csv\n",
    "import datetime\n",
    "import random\n",
    "import glob\n",
    "import os\n",
    "import tensorflow as tf\n",
    "import tensorflow_hub as hub\n",
    "from IPython.display import Audio\n",
    "import numpy as np\n",
    "import scipy\n",
    "from scipy.io import wavfile\n",
    "import soundfile as sf\n",
    "import resampy\n",
    "import librosa"
   ]
  },
  {
   "cell_type": "code",
   "execution_count": null,
   "id": "8e614429",
   "metadata": {},
   "outputs": [],
   "source": [
    "\"\"\"\n",
    "Data is in epoch timestamp; should be in dataframe\n",
    "\"\"\"\n",
    "def format_timestamp(time):\n",
    "    return datetime.datetime.fromtimestamp(int(time))"
   ]
  },
  {
   "cell_type": "code",
   "execution_count": null,
   "id": "b167b851",
   "metadata": {},
   "outputs": [],
   "source": [
    "files = glob.glob(\"../..//../Desktop/archive/KETI/*/pir.csv\")\n",
    "pir_data = [] #Format of this will depend on how much data we are collecting, what we need it for\n",
    "for file in files:\n",
    "    day = []\n",
    "    f = open(file)\n",
    "    reader = csv.reader(f)\n",
    "    for line in reader:\n",
    "        time = format_timestamp(line[0])\n",
    "        ts = float(line[1])\n",
    "        day.append((time,ts))\n",
    "    pir_data.append(day)"
   ]
  },
  {
   "cell_type": "code",
   "execution_count": null,
   "id": "907e61a1",
   "metadata": {},
   "outputs": [],
   "source": [
    "\"\"\"\n",
    "Timedelta to minutes (for checking against alerts)\n",
    "\"\"\"\n",
    "def get_minutes(td):\n",
    "    return td.seconds/60"
   ]
  },
  {
   "cell_type": "code",
   "execution_count": null,
   "id": "9b7e5d46",
   "metadata": {},
   "outputs": [],
   "source": [
    "\"\"\"\n",
    "If you only want to look at the data between certain times\n",
    "\"\"\"\n",
    "def get_modified_data(data,start,end=None):\n",
    "    if end == None:\n",
    "        return [el for el in data if el[0].time() >= start]\n",
    "    return [el for el in data if (el[0].time() >= start and el[0].time() <= end)]\n"
   ]
  },
  {
   "cell_type": "code",
   "execution_count": null,
   "id": "d152dd10",
   "metadata": {},
   "outputs": [],
   "source": [
    "NIGHT_HOUR = 21 #should change/be personalised?\n",
    "MORNING_HOUR = 8\n",
    "ALERT_TIME = 30 #should be changed\n",
    "LIM_TIMESTAMP_STREAK = 10  # Number of timestamps for which there's no movement"
   ]
  },
  {
   "cell_type": "code",
   "execution_count": null,
   "id": "bc132fc7",
   "metadata": {},
   "outputs": [],
   "source": [
    "\"\"\"\n",
    "Check if person is in one room for too long\n",
    "\"Too long\" is room-dependent, but this is just assuming a basic rule of 30 minutes (for bathrooms and stuff)\n",
    "\n",
    "The first timestamp of movement is stored, and the subsequent movement timestamps are compared to this one. If the timedelta is >= the max time (30 minutes), an alert would be raised.\n",
    "If there has been a period of (10) consecutive timestamps with no motion, there is an assumption FOR NOW that the person has left the room. If this is the case, all stored variables are reset.\n",
    "The next timestamp of movement after this would be stored and the process would begin again. \n",
    "\n",
    "--\n",
    "This function would also depend on what the room data looks like; if it's fed hours of data, this function would check whether someone has spent longer than X in the room\n",
    "\n",
    "\n",
    "\n",
    "To check/change:\n",
    "10 periods of no movement is arbitrary\n",
    "What happens with the PIR data if someone is asleep/staying still but still in the room? \n",
    "30 minutes in the bathroom being too long is arbitrary\n",
    "If the PIR sensor does give us non-binary data, what can I do with that?\n",
    "Do I check other rooms as well?\n",
    "\"\"\"\n",
    "\n",
    "def checkRoomLength(room_data): \n",
    "    start_idx = -1\n",
    "    no_motion_streak = 0\n",
    "    \n",
    "    for i in range(len(room_data)):\n",
    "        ts, val = room_data[i]\n",
    "        if val == 0 and start_idx == -1: #Room is empty\n",
    "            continue\n",
    "        if val == 0 and start_idx != -1:\n",
    "            no_motion_streak +=1\n",
    "        if no_motion_streak > LIM_TIMESTAMP_STREAK: #assume at this point that nobody is in the room\n",
    "            start_idx = -1\n",
    "            no_motion_streak = 0\n",
    "            continue\n",
    "        if start_idx == -1: start_idx = i #initialise beginning of movement period\n",
    "        movement_delta = room_data[i][0]-room_data[start_idx][0]\n",
    "        minutes =  get_minutes(movement_delta) # convert to minutes\n",
    "        if minutes > ALERT_TIME: \n",
    "            print(minutes)\n",
    "            print(\"Too long!\") #raise alert\n",
    "            return\n",
    "    return"
   ]
  },
  {
   "cell_type": "code",
   "execution_count": null,
   "id": "dfecc543",
   "metadata": {},
   "outputs": [],
   "source": [
    "\"\"\"\n",
    "While the wakeup settings for the individual person should be personalisable, they need to be set at something at first.\n",
    "We need to consider if their routine is the same each day, or if there are days that they sleep in (i.e. should this function take day of the week into account)\n",
    "How long do we allow before we start worrying? - if they tend to be up every day around 7, if there isn't any movement at 715, we probably shouldn't send an alarm. But what is that time period?\n",
    "\n",
    "The base function assumes that they are normally up every day by 8, and we can give them 30 minutes of extra sleep. \n",
    "If movement is detected during the night, it checks for 5 consecutive timestamps of movement; if that condition is met, person is up. \n",
    "If time is after allowed time, checks for 5 consecutive timestamps of no movement. If this condition is met, returns an alert\n",
    "Check for three consecutive movement timestamps, and then returns that the person is up\n",
    "\n",
    "Assumptions/questions:\n",
    "There is no PIR movement when they are asleep\n",
    "What happens if they are moving around a lot before wakeup time? Do we care? What if they do this, and then go back to sleep and sleep late?\n",
    "Question for later: how do we detect naps? This wouldn't necessairly be \"in a room for too long\" if their PIR movement is 0 when they're asleep\n",
    "\n",
    "\"\"\"\n",
    "MORNING_BUFFER = datetime.time(minute=30)\n",
    "wakeup = datetime.time(hour=MORNING_HOUR)\n",
    "morning = datetime.time(hour=(MORNING_BUFFER.hour+ wakeup.hour),minute=(MORNING_BUFFER.minute + wakeup.minute))\n",
    "def inBedTooLong(bedroomData):\n",
    "    timestamp_count = [0,0] #awake, asleep\n",
    "    for i in range(len(bedroomData)):\n",
    "        ts,val = bedroomData[i]\n",
    "        ts = ts.time()\n",
    "        if ts <= morning:\n",
    "            if val == 0: # still in the period which they are allowed to sleep, so we don't care\n",
    "                if timestamp_count[0]  > 0: timestamp_count[0]  = 0 #detected no movement, so reset to 0\n",
    "            elif val > 0:\n",
    "                timestamp_count[0]  +=1\n",
    "            if timestamp_count[0]  >= 5: return 0 # No issue\n",
    "        if ts > morning:\n",
    "            if i > 0 and bedroomData[i-1][0].time() <= morning:\n",
    "                timestamp_count = [0,0] #reset variables\n",
    "            if val == 0: timestamp_count[1] +=1\n",
    "            if timestamp_count[1] >= 5: return -1 #return error\n",
    "            if val > 0:  timestamp_count[0] +=1 #person is moving\n",
    "            if timestamp_count[0] >= 3: return 1 #person is up\n",
    "            \n",
    "            \n",
    "                \n",
    "\n",
    "    \n",
    "    "
   ]
  },
  {
   "cell_type": "code",
   "execution_count": null,
   "id": "25200322",
   "metadata": {},
   "outputs": [],
   "source": [
    "\"\"\"\n",
    "Will need to check multiple rooms and door audio (door audio I don't have)\n",
    "This also currently assumes 24 hour time. \n",
    "How would this function be called? Upon hearing a door sound or upon there not being activity for a certain amount of time? (or just routinely check) \n",
    "The way this function would be written would depend on its purpose.\n",
    "\n",
    "Currently: this assumes that a door sound has been heard. \n",
    "This code checks through all the rooms, and if movement is seen within a certain time buffer, doesn't raise an alert. \n",
    "Assumptions/choices to be made:\n",
    "1) I need to decide at what point no activity within any room is concerning. This can't be too short of a time, but also can't be too long!\n",
    "2) This code is assuming door sounds can be detected\n",
    "3) What happens if someone has a cat/dog? \n",
    "\"\"\"\n",
    "BUFFER = datetime.timedelta(minutes=30)\n",
    "def leftAtNight(door_timestamp, room_data):\n",
    "    if door_timestamp.hour >= MORNING_HOUR and door_timestamp.hour < NIGHT_HOUR: return #f the timestamp isn't in the period we care about, no need to check\n",
    "    toRaiseAlert = True\n",
    "    for room in room_data:\n",
    "        data = get_modified_data(room,door_timestamp,door_timestamp + BUFFER)\n",
    "        #Need to decide at what point lack of activity would be concerning\n",
    "        for (ts,val) in data: \n",
    "            if val > 0: \n",
    "                toRaiseAlert = False #Does action need to be seen for a certain amount of sampling? Or just any action\n",
    "                break \n",
    "        if toRaiseAlert == False: break\n",
    "    if toRaiseAlert: \n",
    "        print(\"Oh no, Alert\")\n",
    "                \n",
    "    \n",
    "   \n",
    "    return     \n",
    "        \n",
    "    \n",
    "    "
   ]
  },
  {
   "cell_type": "code",
   "execution_count": 2,
   "id": "cfd7ab21",
   "metadata": {},
   "outputs": [],
   "source": [
    "  \"\"\"Returns list of class names corresponding to score vector.\"\"\"\n",
    "def class_names_from_csv(class_map_csv_text):\n",
    "    class_names = []\n",
    "    with tf.io.gfile.GFile(class_map_csv_text) as csvfile:\n",
    "        reader = csv.DictReader(csvfile)\n",
    "    for row in reader:\n",
    "        class_names.append(row['display_name'])\n",
    "\n",
    "    return class_names\n",
    "\n"
   ]
  },
  {
   "cell_type": "code",
   "execution_count": 3,
   "id": "550ba3fe",
   "metadata": {},
   "outputs": [],
   "source": [
    "  \"\"\"Resample waveform if required.\"\"\"\n",
    "def ensure_sample_rate(original_sample_rate, waveform, desired_sample_rate=16000):\n",
    "    if original_sample_rate != desired_sample_rate:\n",
    "        desired_length = int(round(float(len(waveform)) / original_sample_rate * desired_sample_rate))\n",
    "        waveform = scipy.signal.resample(waveform, desired_length)\n",
    "    return desired_sample_rate, waveform"
   ]
  },
  {
   "cell_type": "code",
   "execution_count": 4,
   "id": "3de1ae16",
   "metadata": {},
   "outputs": [],
   "source": [
    "def getModel():\n",
    "    os.environ[\"TFHUB_CACHE_DIR\"] = \"\\\\Users\\\\chloe\\\\Documents\\\\tensorflow\"\n",
    "    model = hub.load('https://tfhub.dev/google/yamnet/1')\n",
    "    class_map_path = model.class_map_path().numpy()\n",
    "    class_names = class_names_from_csv(class_map_path)\n",
    "    return model, class_names"
   ]
  },
  {
   "cell_type": "code",
   "execution_count": 5,
   "id": "45bd48d4",
   "metadata": {},
   "outputs": [],
   "source": [
    "\"\"\"\n",
    "split on silence doesn't seem to be possible if I combine librosa and soundfile (look further into this!)\n",
    "Currently, just splitting on sound length\n",
    "Returns samplerate for later\n",
    "\"\"\"\n",
    "\n",
    "def splitFile(file_name, segment_dur):\n",
    "    data,sr = sf.read(file_name, dtype=np.int16)\n",
    "    segment_length = sr * segment_dur\n",
    "    num_sections = int(np.ceil(len(data) / segment_length))\n",
    "    sections = []\n",
    "    for i in range(num_sections):\n",
    "        t = data[i * segment_length: (i + 1) * segment_length]\n",
    "        sections.append(t)\n",
    "    return sections,sr              "
   ]
  },
  {
   "cell_type": "code",
   "execution_count": 6,
   "id": "8654255e",
   "metadata": {},
   "outputs": [],
   "source": [
    "SAMPLE_RATE = 16000.0\n",
    "\"\"\"\n",
    "Classifies audio data according to the AudioSet Yamnet Data\n",
    "Code is adapted from the interference.py code from the official documentation \n",
    "If the wave is not in the right shape or not sampled in the right sampling rate, the wave is fixed so it fits the data\n",
    "Then the wave is classified.\n",
    "\n",
    "The output of the model is a matrix of (# time frames, # classes) classifier scores; the documentation recommends taking the mean across the 0th axis to get an average across time\n",
    "Thus, we can see the average classifier score across time, not just for a specific timeframe. \n",
    "\n",
    "Returned are the means and standard deviations.\n",
    "\"\"\"\n",
    "def getClassifications(model,wav_data,sr):\n",
    "    waveform = wav_data / 32768.0  # Convert to [-1.0, +1.0]\n",
    "    waveform = waveform.astype('float32')\n",
    "    if len(waveform.shape) > 1:\n",
    "        waveform = np.mean(waveform, axis=1)\n",
    "    if sr != SAMPLE_RATE:\n",
    "        waveform = resampy.resample(waveform, sr, SAMPLE_RATE)\n",
    "    \n",
    "    scores, embeddings, spectrogram = model(waveform)\n",
    "    prediction = np.mean(scores, axis=0) #Averaged across time\n",
    "    std = np.mean(scores,axis=0)\n",
    "    return prediction,std"
   ]
  },
  {
   "cell_type": "code",
   "execution_count": 7,
   "id": "524e23f7",
   "metadata": {},
   "outputs": [],
   "source": [
    "\"\"\"\n",
    "After the model scores all the classes, this function gets the top five classifications and matches them to the class names.\n",
    "The returned result is an array with (class name,probablity) for the top five. \n",
    "\"\"\"\n",
    "def getTopFive(predictions):\n",
    "    top5_i = np.argsort(predictions)[::-1][:5]\n",
    "    toRet = []\n",
    "    for i in top5_i:\n",
    "        toRet.append(class_names[i])\n",
    "        toRet.append(predictions[i])\n",
    "    return toRet\n",
    "    "
   ]
  },
  {
   "cell_type": "code",
   "execution_count": 8,
   "id": "6b2d4cd2",
   "metadata": {},
   "outputs": [],
   "source": [
    "\n",
    "model,class_names= getModel()"
   ]
  },
  {
   "cell_type": "code",
   "execution_count": null,
   "id": "0dbdf00a",
   "metadata": {},
   "outputs": [],
   "source": [
    "#split,sr = splitFile(\"../..//../Desktop/Tallie Sounds/door1.wav\",2)\n",
    "#split,sr = splitFile( \"../..//../Desktop/Trainingdata/Snoring Dataset/Snoring/1_46.wav\",2)\n",
    "split,sr = splitFile(\"../..//../Desktop/audio/0-146774-A-4.wav\",2)"
   ]
  },
  {
   "cell_type": "code",
   "execution_count": null,
   "id": "98143756",
   "metadata": {},
   "outputs": [],
   "source": [
    "f = open(\"../../../Desktop/audio_mapping.csv\")\n",
    "f.readline()\n",
    "ids = {}\n",
    "reader = csv.reader(f)\n",
    "for line in reader:\n",
    "    path = line[1]\n",
    "    label,path = path.split(\"/\")\n",
    "    if label in [\"book\",\"eat\"]: continue\n",
    "    id_ = path.split(\"_\")[0]\n",
    "    ids[id_] = label\n"
   ]
  },
  {
   "cell_type": "code",
   "execution_count": null,
   "id": "e4a2c2a2",
   "metadata": {},
   "outputs": [],
   "source": [
    "set(list(ids.values()))"
   ]
  },
  {
   "cell_type": "code",
   "execution_count": null,
   "id": "3bc09521",
   "metadata": {},
   "outputs": [],
   "source": [
    "files = glob.glob(\"../..//../Desktop/audio/*.wav\")\n",
    "\n",
    "false = 0\n",
    "total = 0\n",
    "others = []\n",
    "dd = {}\n",
    "for file in files:\n",
    "    id_ =  file.split(\"/\")[-1].split(\"-\")[1]\n",
    "    if id_ not in ids: continue\n",
    "    split, sr = splitFile(file,2)\n",
    "    for el in split:\n",
    "        p,s = getClassifications(model,el,sr)\n",
    "        prediction = getTopFive(p)\n",
    "        if prediction[0] in names: false +=1\n",
    "        else:\n",
    "            others.append(prediction[0])\n",
    "        if prediction[0] not in dd: dd[prediction[0]]=[]\n",
    "        dd[prediction[0]].append(file)\n",
    "        total +=1\n",
    "false, total, false/total, (total-false)/total"
   ]
  },
  {
   "cell_type": "code",
   "execution_count": null,
   "id": "89c204fa",
   "metadata": {},
   "outputs": [],
   "source": [
    "from collections import Counter\n",
    "x = Counter(others)\n",
    "x.most_common()"
   ]
  },
  {
   "cell_type": "code",
   "execution_count": null,
   "id": "47e60ba4",
   "metadata": {},
   "outputs": [],
   "source": [
    "dd['Water']\n"
   ]
  },
  {
   "cell_type": "code",
   "execution_count": null,
   "id": "2d49f4ce",
   "metadata": {
    "scrolled": false
   },
   "outputs": [],
   "source": [
    "count = 0\n",
    "total = 0\n",
    "for i in range(len(split)):\n",
    "    section = split[i]\n",
    "    p,s = getClassifications(model,section,sr)\n",
    "    print(getTopFive(p))"
   ]
  },
  {
   "cell_type": "code",
   "execution_count": null,
   "id": "61cff701",
   "metadata": {},
   "outputs": [],
   "source": [
    "\"\"\"\n",
    "Need index of Cough ID in class names (to get probability) for cough profile. I assume this won't change from run to run, but just in case, don't want to hardcode it\n",
    "Also, if we decide to add more categories as labels to cough (throat clearing, for example), this will come in handy\n",
    "\"\"\"\n",
    "def getCoughIndex():\n",
    "    for i in range(len(class_names)):\n",
    "        if class_names[i] == \"Cough\":\n",
    "            return i\n",
    "        "
   ]
  },
  {
   "cell_type": "code",
   "execution_count": null,
   "id": "9f0d58f5",
   "metadata": {},
   "outputs": [],
   "source": [
    "\"\"\"\n",
    "Takes a set of audiodata and returns probablity of cough\n",
    "\n",
    "TODO: Future versions would have timestamps, but I don't have enough coughs with timestamps to create that kind of data\n",
    "INCORPORATE standard deviations somehow\n",
    "\"\"\"\n",
    "COUGH_INDEX = getCoughIndex()\n",
    "def getCoughProfile(audiodata):\n",
    "    results = []\n",
    "    for frame in audiodata:\n",
    "        p,s = getClassifications(model,frame,sr)\n",
    "        results.append(p[COUGH_INDEX])\n",
    "    \n",
    "    \n",
    "    return results"
   ]
  },
  {
   "cell_type": "code",
   "execution_count": null,
   "id": "9a09b50e",
   "metadata": {},
   "outputs": [],
   "source": [
    "files  = glob.glob(\"../..//../Desktop/Trainingdata/audio_data/cough/*.wav\")[0:25]\n",
    "data = []\n",
    "for file in files:\n",
    "    split,sr = splitFile(file,2)\n",
    "    data.extend(split)\n",
    "getCoughProfile(data)"
   ]
  },
  {
   "cell_type": "code",
   "execution_count": 2,
   "id": "0b72b51b",
   "metadata": {},
   "outputs": [],
   "source": [
    "import json\n",
    "jsondata = json.load(open(\"Datasets/ontology.json\"))"
   ]
  },
  {
   "cell_type": "code",
   "execution_count": 3,
   "id": "f701d67c",
   "metadata": {},
   "outputs": [],
   "source": [
    "d = {}\n",
    "for el in jsondata:\n",
    "    id = el['id']\n",
    "    name = el['name']\n",
    "    children = el['child_ids']\n",
    "    d[id] = (children,name)\n",
    "    "
   ]
  },
  {
   "cell_type": "code",
   "execution_count": 11,
   "id": "bf95f418",
   "metadata": {},
   "outputs": [
    {
     "data": {
      "text/plain": [
       "['Human voice',\n",
       " 'Speech',\n",
       " 'Male speech, man speaking',\n",
       " 'Female speech, woman speaking',\n",
       " 'Child speech, kid speaking',\n",
       " 'Conversation',\n",
       " 'Narration, monologue',\n",
       " 'Babbling',\n",
       " 'Speech synthesizer',\n",
       " 'Shout',\n",
       " 'Bellow',\n",
       " 'Whoop',\n",
       " 'Yell',\n",
       " 'Battle cry',\n",
       " 'Children shouting',\n",
       " 'Screaming',\n",
       " 'Whispering',\n",
       " 'Laughter',\n",
       " 'Baby laughter',\n",
       " 'Giggle',\n",
       " 'Snicker',\n",
       " 'Belly laugh',\n",
       " 'Chuckle, chortle',\n",
       " 'Crying, sobbing',\n",
       " 'Baby cry, infant cry',\n",
       " 'Whimper',\n",
       " 'Wail, moan',\n",
       " 'Sigh',\n",
       " 'Singing',\n",
       " 'Choir',\n",
       " 'Yodeling',\n",
       " 'Chant',\n",
       " 'Mantra',\n",
       " 'Male singing',\n",
       " 'Female singing',\n",
       " 'Child singing',\n",
       " 'Synthetic singing',\n",
       " 'Rapping',\n",
       " 'Humming',\n",
       " 'Groan',\n",
       " 'Grunt',\n",
       " 'Yawn',\n",
       " 'Whistling',\n",
       " 'Wolf-whistling',\n",
       " 'Respiratory sounds',\n",
       " 'Breathing',\n",
       " 'Wheeze',\n",
       " 'Snoring',\n",
       " 'Gasp',\n",
       " 'Pant',\n",
       " 'Snort',\n",
       " 'Cough',\n",
       " 'Throat clearing',\n",
       " 'Sneeze',\n",
       " 'Sniff',\n",
       " 'Human locomotion',\n",
       " 'Run',\n",
       " 'Shuffle',\n",
       " 'Walk, footsteps',\n",
       " 'Digestive',\n",
       " 'Chewing, mastication',\n",
       " 'Biting',\n",
       " 'Gargling',\n",
       " 'Stomach rumble',\n",
       " 'Burping, eructation',\n",
       " 'Hiccup',\n",
       " 'Fart',\n",
       " 'Hands',\n",
       " 'Finger snapping',\n",
       " 'Clapping',\n",
       " 'Heart sounds, heartbeat',\n",
       " 'Heart murmur',\n",
       " 'Otoacoustic emission',\n",
       " 'Tinnitus, ringing in the ears',\n",
       " 'Human group actions',\n",
       " 'Clapping',\n",
       " 'Cheering',\n",
       " 'Applause',\n",
       " 'Chatter',\n",
       " 'Crowd',\n",
       " 'Hubbub, speech noise, speech babble',\n",
       " 'Booing',\n",
       " 'Children playing',\n",
       " 'Children shouting']"
      ]
     },
     "execution_count": 11,
     "metadata": {},
     "output_type": "execute_result"
    }
   ],
   "source": [
    "children = d[\"/m/0dgw9r\"][0]\n",
    "names = []\n",
    "for el in children:\n",
    "    names.extend(get_subordinates(d,el))\n",
    "    \n",
    "names"
   ]
  },
  {
   "cell_type": "code",
   "execution_count": 8,
   "id": "23f29699",
   "metadata": {},
   "outputs": [],
   "source": [
    "def get_subordinates(dictionary, label):\n",
    "    children, name = dictionary[label]\n",
    "    if children == []: return [name]\n",
    "    toRet = [name]\n",
    "    for el in children:\n",
    "        toRet.extend(get_subordinates(dictionary, el))\n",
    "    return toRet\n",
    "                \n",
    "        \n",
    "    "
   ]
  },
  {
   "cell_type": "code",
   "execution_count": 10,
   "id": "57181933",
   "metadata": {},
   "outputs": [
    {
     "name": "stdout",
     "output_type": "stream",
     "text": [
      "/m/0dgw9r Human sounds\n"
     ]
    }
   ],
   "source": [
    "for key in d:\n",
    "    vals = d[key]\n",
    "    if  \"/m/09hlz4\" in vals[0]:\n",
    "        print(key, vals[1])"
   ]
  },
  {
   "cell_type": "code",
   "execution_count": null,
   "id": "dc416fea",
   "metadata": {},
   "outputs": [],
   "source": []
  }
 ],
 "metadata": {
  "kernelspec": {
   "display_name": "Python 3 (ipykernel)",
   "language": "python",
   "name": "python3"
  },
  "language_info": {
   "codemirror_mode": {
    "name": "ipython",
    "version": 3
   },
   "file_extension": ".py",
   "mimetype": "text/x-python",
   "name": "python",
   "nbconvert_exporter": "python",
   "pygments_lexer": "ipython3",
   "version": "3.9.13"
  }
 },
 "nbformat": 4,
 "nbformat_minor": 5
}
