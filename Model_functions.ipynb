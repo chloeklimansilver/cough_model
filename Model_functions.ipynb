{
 "cells": [
  {
   "cell_type": "code",
   "execution_count": 22,
   "id": "36ec293b",
   "metadata": {},
   "outputs": [],
   "source": [
    "import csv\n",
    "import datetime\n",
    "import random\n",
    "import glob\n",
    "import os\n",
    "import tensorflow as tf\n",
    "import tensorflow_hub as hub\n",
    "from IPython.display import Audio\n",
    "import numpy as np\n",
    "import scipy\n",
    "from scipy.io import wavfile\n",
    "import soundfile as sf\n",
    "import resampy\n",
    "import librosa\n"
   ]
  },
  {
   "cell_type": "code",
   "execution_count": null,
   "id": "8e614429",
   "metadata": {},
   "outputs": [],
   "source": [
    "\"\"\"\n",
    "Data is in epoch timestamp; should be in dataframe\n",
    "\"\"\"\n",
    "def format_timestamp(time):\n",
    "    return datetime.datetime.fromtimestamp(int(time))"
   ]
  },
  {
   "cell_type": "code",
   "execution_count": null,
   "id": "b167b851",
   "metadata": {},
   "outputs": [],
   "source": [
    "files = glob.glob(\"../..//../Desktop/archive/KETI/*/pir.csv\")\n",
    "pir_data = [] #Format of this will depend on how much data we are collecting, what we need it for\n",
    "for file in files:\n",
    "    day = []\n",
    "    f = open(file)\n",
    "    reader = csv.reader(f)\n",
    "    for line in reader:\n",
    "        time = format_timestamp(line[0])\n",
    "        ts = float(line[1])\n",
    "        day.append((time,ts))\n",
    "    pir_data.append(day)"
   ]
  },
  {
   "cell_type": "code",
   "execution_count": null,
   "id": "907e61a1",
   "metadata": {},
   "outputs": [],
   "source": [
    "\"\"\"\n",
    "Timedelta to minutes (for checking against alerts)\n",
    "\"\"\"\n",
    "def get_minutes(td):\n",
    "    return td.seconds/60"
   ]
  },
  {
   "cell_type": "code",
   "execution_count": null,
   "id": "9b7e5d46",
   "metadata": {},
   "outputs": [],
   "source": [
    "\"\"\"\n",
    "If you only want to look at the data between certain times\n",
    "\"\"\"\n",
    "def get_modified_data(data,start,end=None):\n",
    "    if end == None:\n",
    "        return [el for el in data if el[0].time() >= start]\n",
    "    return [el for el in data if (el[0].time() >= start and el[0].time() <= end)]\n"
   ]
  },
  {
   "cell_type": "code",
   "execution_count": null,
   "id": "d152dd10",
   "metadata": {},
   "outputs": [],
   "source": [
    "NIGHT_HOUR = 21 #should change/be personalised?\n",
    "MORNING_HOUR = 8\n",
    "ALERT_TIME = 30 #should be changed\n",
    "LIM_TIMESTAMP_STREAK = 10  # Number of timestamps for which there's no movement"
   ]
  },
  {
   "cell_type": "code",
   "execution_count": null,
   "id": "bc132fc7",
   "metadata": {},
   "outputs": [],
   "source": [
    "\"\"\"\n",
    "Check if person is in one room for too long\n",
    "\"Too long\" is room-dependent, but this is just assuming a basic rule of 30 minutes (for bathrooms and stuff)\n",
    "\n",
    "The first timestamp of movement is stored, and the subsequent movement timestamps are compared to this one. If the timedelta is >= the max time (30 minutes), an alert would be raised.\n",
    "If there has been a period of (10) consecutive timestamps with no motion, there is an assumption FOR NOW that the person has left the room. If this is the case, all stored variables are reset.\n",
    "The next timestamp of movemente after this would be stored and the process would begin again. \n",
    "\n",
    "\n",
    "To check/change:\n",
    "10 periods of no movement is arbitrary\n",
    "What happens with the PIR data if someone is asleep/staying still but still in the room? \n",
    "30 minutes in the bathroom being too long is arbitrary\n",
    "If the PIR sensor does give us non-binary data, what can I do with that?\n",
    "Do I check other rooms as well?\n",
    "\"\"\"\n",
    "\n",
    "def checkRoomLength(room_data): \n",
    "    start_idx = -1\n",
    "    no_motion_streak = 0\n",
    "    \n",
    "    for i in range(len(room_data)):\n",
    "        ts, val = room_data[i]\n",
    "        if val == 0 and start_idx == -1: #Room is empty\n",
    "            continue\n",
    "        if val == 0 and start_idx != -1:\n",
    "            no_motion_streak +=1\n",
    "        if no_motion_streak > LIM_TIMESTAMP_STREAK: #assume at this point that nobody is in the room\n",
    "            start_idx = -1\n",
    "            no_motion_streak = 0\n",
    "            continue\n",
    "        if start_idx == -1: start_idx = i #initialise beginning of movement period\n",
    "        movement_delta = room_data[i][0]-room_data[start_idx][0]\n",
    "        minutes =  get_minutes(movement_delta) # convert to minutes\n",
    "        if minutes > ALERT_TIME: \n",
    "            print(minutes)\n",
    "            print(\"Too long!\") #raise alert\n",
    "            return\n",
    "    return"
   ]
  },
  {
   "cell_type": "code",
   "execution_count": null,
   "id": "25200322",
   "metadata": {},
   "outputs": [],
   "source": [
    "\"\"\"\n",
    "Will need to check multiple rooms and door audio (door audio I don't have)\n",
    "This also currently assumes 24 hour time. \n",
    "How would this function be called? Upon hearing a door sound or upon there not being activity for a certain amount of time? (or just routinely check) \n",
    "The way this function would be written would depend on its purpose.\n",
    "\n",
    "Currently: this assumes that a door sound has been heard. \n",
    "This code checks through all the rooms, and if movement is seen within a certain time buffer, doesn't raise an alert. \n",
    "Assumptions/choices to be made:\n",
    "1) I need to decide at what point no activity within any room is concerning. This can't be too short of a time, but also can't be too long!\n",
    "2) This code is assuming door sounds can be detected\n",
    "3) What happens if someone has a cat/dog? \n",
    "\"\"\"\n",
    "BUFFER = datetime.timedelta(minutes=30)\n",
    "def leftAtNight(door_timestamp, room_data):\n",
    "    if door_timestamp.hour >= MORNING_HOUR and door_timestamp.hour < NIGHT_HOUR: return #f the timestamp isn't in the period we care about, no need to check\n",
    "    toRaiseAlert = True\n",
    "    for room in room_data:\n",
    "        data = get_modified_data(room,door_timestamp,door_timestamp + BUFFER)\n",
    "        #Need to decide at what point lack of activity would be concerning\n",
    "        for (ts,val) in data: \n",
    "            if val > 0: \n",
    "                toRaiseAlert = False #Does action need to be seen for a certain amount of sampling? Or just any action\n",
    "                break \n",
    "        if toRaiseAlert == False: break\n",
    "    if toRaiseAlert: \n",
    "        print(\"Oh no, Alert\")\n",
    "                \n",
    "    \n",
    "   \n",
    "    return     \n",
    "        \n",
    "    \n",
    "    "
   ]
  },
  {
   "cell_type": "code",
   "execution_count": 9,
   "id": "cfd7ab21",
   "metadata": {},
   "outputs": [],
   "source": [
    "  \"\"\"Returns list of class names corresponding to score vector.\"\"\"\n",
    "def class_names_from_csv(class_map_csv_text):\n",
    "    class_names = []\n",
    "    with tf.io.gfile.GFile(class_map_csv_text) as csvfile:\n",
    "        reader = csv.DictReader(csvfile)\n",
    "    for row in reader:\n",
    "        class_names.append(row['display_name'])\n",
    "\n",
    "    return class_names\n",
    "\n"
   ]
  },
  {
   "cell_type": "code",
   "execution_count": 4,
   "id": "550ba3fe",
   "metadata": {},
   "outputs": [],
   "source": [
    "def ensure_sample_rate(original_sample_rate, waveform, desired_sample_rate=16000):\n",
    "  \"\"\"Resample waveform if required.\"\"\"\n",
    "  if original_sample_rate != desired_sample_rate:\n",
    "    desired_length = int(round(float(len(waveform)) / original_sample_rate * desired_sample_rate))\n",
    "    waveform = scipy.signal.resample(waveform, desired_length)\n",
    "  return desired_sample_rate, waveform"
   ]
  },
  {
   "cell_type": "code",
   "execution_count": 32,
   "id": "3de1ae16",
   "metadata": {},
   "outputs": [],
   "source": [
    "def getModel():\n",
    "    os.environ[\"TFHUB_CACHE_DIR\"] = \"\\\\Users\\\\chloe\\\\Documents\\\\tensorflow\"\n",
    "    model = hub.load('https://tfhub.dev/google/yamnet/1')\n",
    "    class_map_path = model.class_map_path().numpy()\n",
    "    class_names = class_names_from_csv(class_map_path)\n",
    "    return model"
   ]
  },
  {
   "cell_type": "code",
   "execution_count": 72,
   "id": "45bd48d4",
   "metadata": {},
   "outputs": [],
   "source": [
    "\"\"\"\n",
    "split on silence doesn't seem to be possible if I combine librosa and soundfile (look further into this!)\n",
    "Currently, just splitting on sound length\n",
    "\"\"\"\n",
    "\n",
    "def splitFile(file_name, segment_dur):\n",
    "    data,sr = sf.read(file_name, dtype=np.int16)\n",
    "    segment_length = sr * segment_dur\n",
    "    num_sections = int(np.ceil(len(data) / segment_length))\n",
    "    sections = []\n",
    "    for i in range(num_sections):\n",
    "        t = data[i * segment_length: (i + 1) * segment_length]\n",
    "        sections.append(t)\n",
    "    return sections              "
   ]
  },
  {
   "cell_type": "code",
   "execution_count": 69,
   "id": "8654255e",
   "metadata": {},
   "outputs": [],
   "source": [
    "SAMPLE_RATE = 16000.0\n",
    "def getClassifications(model,wav_data,samplerate):\n",
    "    waveform = wav_data / 32768.0  # Convert to [-1.0, +1.0]\n",
    "    waveform = waveform.astype('float32')\n",
    "    if len(waveform.shape) > 1:\n",
    "        waveform = np.mean(waveform, axis=1)\n",
    "    if sr != SAMPLE_RATE:\n",
    "        waveform = resampy.resample(waveform, sr, SAMPLE_RATE)\n",
    "    \n",
    "    scores, embeddings, spectrogram = model(waveform)\n",
    "    prediction = np.mean(scores, axis=0)\n",
    "    top5_i = np.argsort(prediction)[::-1][:5]\n",
    "    \n",
    "    \n",
    "\n",
    "    toRet = []\n",
    "    for i in top5_i:\n",
    "        toRet.append(class_names[i])\n",
    "        toRet.append(prediction[i])\n",
    "    return toRet"
   ]
  },
  {
   "cell_type": "code",
   "execution_count": 47,
   "id": "6b2d4cd2",
   "metadata": {},
   "outputs": [],
   "source": [
    "\n",
    "model = getModel()"
   ]
  },
  {
   "cell_type": "code",
   "execution_count": 71,
   "id": "2d49f4ce",
   "metadata": {
    "scrolled": true
   },
   "outputs": [
    {
     "name": "stdout",
     "output_type": "stream",
     "text": [
      "Section: 0\n",
      "521\n",
      "['Inside, small room', 0.14063552, 'Door', 0.09401716, 'Water', 0.08534997, 'Inside, large room or hall', 0.061932128, 'Liquid', 0.05978501]\n",
      "Section: 1\n",
      "521\n",
      "['Inside, small room', 0.27281162, 'Door', 0.098123156, 'Sliding door', 0.06624843, 'Animal', 0.064822264, 'Bouncing', 0.047153708]\n",
      "Section: 2\n",
      "521\n",
      "['Keys jangling', 0.15627353, 'Animal', 0.14754096, 'Inside, small room', 0.09506138, 'Domestic animals, pets', 0.090689115, 'Sliding door', 0.08435214]\n",
      "Section: 3\n",
      "521\n",
      "['Keys jangling', 0.22255456, 'Rodents, rats, mice', 0.14939107, 'Patter', 0.12602122, 'Crushing', 0.1076482, 'Animal', 0.09418496]\n"
     ]
    }
   ],
   "source": [
    "for i in range(len(split)):\n",
    "    section = split[i]\n",
    "    print(\"Section: \" + str(i))\n",
    "    print(getClassifications(model,section,sr))"
   ]
  },
  {
   "cell_type": "code",
   "execution_count": 53,
   "id": "d38dc78b",
   "metadata": {},
   "outputs": [
    {
     "data": {
      "text/plain": [
       "(1739416,)"
      ]
     },
     "execution_count": 53,
     "metadata": {},
     "output_type": "execute_result"
    }
   ],
   "source": [
    "data.shape"
   ]
  },
  {
   "cell_type": "code",
   "execution_count": null,
   "id": "9f0d58f5",
   "metadata": {},
   "outputs": [],
   "source": []
  }
 ],
 "metadata": {
  "kernelspec": {
   "display_name": "Python 3 (ipykernel)",
   "language": "python",
   "name": "python3"
  },
  "language_info": {
   "codemirror_mode": {
    "name": "ipython",
    "version": 3
   },
   "file_extension": ".py",
   "mimetype": "text/x-python",
   "name": "python",
   "nbconvert_exporter": "python",
   "pygments_lexer": "ipython3",
   "version": "3.9.13"
  }
 },
 "nbformat": 4,
 "nbformat_minor": 5
}
