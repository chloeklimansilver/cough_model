{
 "cells": [
  {
   "cell_type": "markdown",
   "metadata": {
    "id": "Cb4espuLKJiA"
   },
   "source": [
    "##### Copyright 2021 The TensorFlow Authors."
   ]
  },
  {
   "cell_type": "code",
   "execution_count": null,
   "metadata": {
    "cellView": "form",
    "execution": {
     "iopub.execute_input": "2022-12-14T04:17:38.316490Z",
     "iopub.status.busy": "2022-12-14T04:17:38.316059Z",
     "iopub.status.idle": "2022-12-14T04:17:38.320074Z",
     "shell.execute_reply": "2022-12-14T04:17:38.319521Z"
    },
    "id": "DjZQV2njKJ3U"
   },
   "outputs": [],
   "source": [
    "#@title Licensed under the Apache License, Version 2.0 (the \"License\");\n",
    "# you may not use this file except in compliance with the License.\n",
    "# You may obtain a copy of the License at\n",
    "#\n",
    "# https://www.apache.org/licenses/LICENSE-2.0\n",
    "#\n",
    "# Unless required by applicable law or agreed to in writing, software\n",
    "# distributed under the License is distributed on an \"AS IS\" BASIS,\n",
    "# WITHOUT WARRANTIES OR CONDITIONS OF ANY KIND, either express or implied.\n",
    "# See the License for the specific language governing permissions and\n",
    "# limitations under the License."
   ]
  },
  {
   "cell_type": "markdown",
   "metadata": {
    "id": "mTL0TERThT6z"
   },
   "source": [
    "<table class=\"tfo-notebook-buttons\" align=\"left\">\n",
    "  <td>\n",
    "    <a target=\"_blank\" href=\"https://www.tensorflow.org/tutorials/audio/transfer_learning_audio\"><img src=\"https://www.tensorflow.org/images/tf_logo_32px.png\" />View on TensorFlow.org</a>\n",
    "  </td>\n",
    "  <td>\n",
    "    <a target=\"_blank\" href=\"https://colab.research.google.com/github/tensorflow/docs/blob/master/site/en/tutorials/audio/transfer_learning_audio.ipynb\"><img src=\"https://www.tensorflow.org/images/colab_logo_32px.png\" />Run in Google Colab</a>\n",
    "  </td>\n",
    "  <td>\n",
    "    <a target=\"_blank\" href=\"https://github.com/tensorflow/docs/blob/master/site/en/tutorials/audio/transfer_learning_audio.ipynb\"><img src=\"https://www.tensorflow.org/images/GitHub-Mark-32px.png\" />View on GitHub</a>\n",
    "  </td>\n",
    "  <td>\n",
    "    <a href=\"https://storage.googleapis.com/tensorflow_docs/docs/site/en/tutorials/audio/transfer_learning_audio.ipynb\"><img src=\"https://www.tensorflow.org/images/download_logo_32px.png\" />Download notebook</a>\n",
    "  </td>\n",
    "  <td>\n",
    "    <a href=\"https://tfhub.dev/google/yamnet/1\"><img src=\"https://www.tensorflow.org/images/hub_logo_32px.png\" />See TF Hub model</a>\n",
    "  </td>\n",
    "</table>"
   ]
  },
  {
   "cell_type": "markdown",
   "metadata": {
    "id": "K2madPFAGHb3"
   },
   "source": [
    "# Transfer learning with YAMNet for environmental sound classification\n",
    "\n",
    "[YAMNet](https://tfhub.dev/google/yamnet/1) is a pre-trained deep neural network that can predict audio events from [521 classes](https://github.com/tensorflow/models/blob/master/research/audioset/yamnet/yamnet_class_map.csv), such as laughter, barking, or a siren. \n",
    "\n",
    " In this tutorial you will learn how to:\n",
    "\n",
    "- Load and use the YAMNet model for inference.\n",
    "- Build a new model using the YAMNet embeddings to classify cat and dog sounds.\n",
    "- Evaluate and export your model.\n"
   ]
  },
  {
   "cell_type": "markdown",
   "metadata": {
    "id": "5Mdp2TpBh96Y"
   },
   "source": [
    "## Import TensorFlow and other libraries\n"
   ]
  },
  {
   "cell_type": "markdown",
   "metadata": {
    "id": "zCcKYqu_hvKe"
   },
   "source": [
    "Start by installing [TensorFlow I/O](https://www.tensorflow.org/io), which will make it easier for you to load audio files off disk."
   ]
  },
  {
   "cell_type": "code",
   "execution_count": 1,
   "metadata": {
    "execution": {
     "iopub.execute_input": "2022-12-14T04:17:42.785412Z",
     "iopub.status.busy": "2022-12-14T04:17:42.784883Z",
     "iopub.status.idle": "2022-12-14T04:17:45.185038Z",
     "shell.execute_reply": "2022-12-14T04:17:45.184303Z"
    },
    "id": "7l3nqdWVF-kC"
   },
   "outputs": [],
   "source": [
    "import os\n",
    "\n",
    "from IPython import display\n",
    "import matplotlib.pyplot as plt\n",
    "import numpy as np\n",
    "import pandas as pd\n",
    "\n",
    "import tensorflow as tf\n",
    "import tensorflow_hub as hub\n",
    "import tensorflow_io as tfio"
   ]
  },
  {
   "cell_type": "markdown",
   "metadata": {
    "id": "v9ZhybCnt_bM"
   },
   "source": [
    "## About YAMNet\n",
    "\n",
    "[YAMNet](https://github.com/tensorflow/models/tree/master/research/audioset/yamnet) is a pre-trained neural network that employs the [MobileNetV1](https://arxiv.org/abs/1704.04861) depthwise-separable convolution architecture. It can use an audio waveform as input and make independent predictions for each of the 521 audio events from the [AudioSet](http://g.co/audioset) corpus.\n",
    "\n",
    "Internally, the model extracts \"frames\" from the audio signal and processes batches of these frames. This version of the model uses frames that are 0.96 second long and extracts one frame every 0.48 seconds .\n",
    "\n",
    "The model accepts a 1-D float32 Tensor or NumPy array containing a waveform of arbitrary length, represented as single-channel (mono) 16 kHz samples in the range `[-1.0, +1.0]`. This tutorial contains code to help you convert WAV files into the supported format.\n",
    "\n",
    "The model returns 3 outputs, including the class scores, embeddings (which you will use for transfer learning), and the log mel [spectrogram](https://www.tensorflow.org/tutorials/audio/simple_audio#spectrogram). You can find more details [here](https://tfhub.dev/google/yamnet/1).\n",
    "\n",
    "One specific use of YAMNet is as a high-level feature extractor - the 1,024-dimensional embedding output. You will use the base (YAMNet) model's input features and feed them into your shallower model consisting of one hidden `tf.keras.layers.Dense` layer. Then, you will train the network on a small amount of data for audio classification _without_ requiring a lot of labeled data and training end-to-end. (This is similar to [transfer learning for image classification with TensorFlow Hub](https://www.tensorflow.org/tutorials/images/transfer_learning_with_hub) for more information.)\n",
    "\n",
    "First, you will test the model and see the results of classifying audio. You will then construct the data pre-processing pipeline.\n",
    "\n",
    "### Loading YAMNet from TensorFlow Hub\n",
    "\n",
    "You are going to use a pre-trained YAMNet from [Tensorflow Hub](https://tfhub.dev/) to extract the embeddings from the sound files.\n",
    "\n",
    "Loading a model from TensorFlow Hub is straightforward: choose the model, copy its URL, and use the `load` function.\n",
    "\n",
    "Note: to read the documentation of the model, use the model URL in your browser."
   ]
  },
  {
   "cell_type": "code",
   "execution_count": 2,
   "metadata": {
    "execution": {
     "iopub.execute_input": "2022-12-14T04:17:45.189798Z",
     "iopub.status.busy": "2022-12-14T04:17:45.188845Z",
     "iopub.status.idle": "2022-12-14T04:17:52.629198Z",
     "shell.execute_reply": "2022-12-14T04:17:52.628173Z"
    },
    "id": "06CWkBV5v3gr"
   },
   "outputs": [],
   "source": [
    "yamnet_model_handle = 'https://tfhub.dev/google/yamnet/1'\n",
    "yamnet_model = hub.load(yamnet_model_handle)"
   ]
  },
  {
   "cell_type": "markdown",
   "metadata": {
    "id": "GmrPJ0GHw9rr"
   },
   "source": [
    "With the model loaded, you can follow the [YAMNet basic usage tutorial](https://www.tensorflow.org/hub/tutorials/yamnet) and download a sample WAV file to run the inference.\n"
   ]
  },
  {
   "cell_type": "markdown",
   "metadata": {
    "id": "mBm9y9iV2U_-"
   },
   "source": [
    "You will need a function to load audio files, which will also be used later when working with the training data. (Learn more about reading audio files and their labels in [Simple audio recognition](https://www.tensorflow.org/tutorials/audio/simple_audio#reading_audio_files_and_their_labels).\n",
    "\n",
    "Note: The returned `wav_data` from `load_wav_16k_mono` is already normalized to values in the `[-1.0, 1.0]` range (for more information, go to [YAMNet's documentation on TF Hub](https://tfhub.dev/google/yamnet/1))."
   ]
  },
  {
   "cell_type": "code",
   "execution_count": 3,
   "metadata": {
    "execution": {
     "iopub.execute_input": "2022-12-14T04:17:52.878905Z",
     "iopub.status.busy": "2022-12-14T04:17:52.878337Z",
     "iopub.status.idle": "2022-12-14T04:17:52.883493Z",
     "shell.execute_reply": "2022-12-14T04:17:52.882840Z"
    },
    "id": "Xwc9Wrdg2EtY"
   },
   "outputs": [],
   "source": [
    "# Utility functions for loading audio files and making sure the sample rate is correct.\n",
    "\n",
    "@tf.function\n",
    "def load_wav_16k_mono(filename):\n",
    "    \"\"\" Load a WAV file, convert it to a float tensor, resample to 16 kHz single-channel audio. \"\"\"\n",
    "    file_contents = tf.io.read_file(filename)\n",
    "    wav, sample_rate = tf.audio.decode_wav(\n",
    "          file_contents,\n",
    "          desired_channels=1)\n",
    "    wav = tf.squeeze(wav, axis=-1)\n",
    "    sample_rate = tf.cast(sample_rate, dtype=tf.int64)\n",
    "    wav = tfio.audio.resample(wav, rate_in=sample_rate, rate_out=16000)\n",
    "    return wav"
   ]
  },
  {
   "cell_type": "markdown",
   "metadata": {
    "id": "6z6rqlEz20YB"
   },
   "source": [
    "### Load the class mapping\n",
    "\n",
    "It's important to load the class names that YAMNet is able to recognize. The mapping file is present at `yamnet_model.class_map_path()` in the CSV format."
   ]
  },
  {
   "cell_type": "code",
   "execution_count": 4,
   "metadata": {
    "execution": {
     "iopub.execute_input": "2022-12-14T04:17:53.766003Z",
     "iopub.status.busy": "2022-12-14T04:17:53.765732Z",
     "iopub.status.idle": "2022-12-14T04:17:53.783796Z",
     "shell.execute_reply": "2022-12-14T04:17:53.783192Z"
    },
    "id": "6Gyj23e_3Mgr"
   },
   "outputs": [],
   "source": [
    "class_map_path = yamnet_model.class_map_path().numpy().decode('utf-8')\n",
    "class_names =list(pd.read_csv(class_map_path)['display_name'])"
   ]
  },
  {
   "cell_type": "markdown",
   "metadata": {
    "id": "5xbycDnT40u0"
   },
   "source": [
    "### Run inference\n",
    "\n",
    "YAMNet provides frame-level class-scores (i.e., 521 scores for every frame). In order to determine clip-level predictions, the scores can be aggregated per-class across frames (e.g., using mean or max aggregation). This is done below by `scores_np.mean(axis=0)`. Finally, to find the top-scored class at the clip-level, you take the maximum of the 521 aggregated scores.\n"
   ]
  },
  {
   "cell_type": "code",
   "execution_count": null,
   "metadata": {
    "execution": {
     "iopub.execute_input": "2022-12-14T04:17:53.787315Z",
     "iopub.status.busy": "2022-12-14T04:17:53.786774Z",
     "iopub.status.idle": "2022-12-14T04:17:55.314271Z",
     "shell.execute_reply": "2022-12-14T04:17:55.313558Z"
    },
    "id": "NT0otp-A4Y3u"
   },
   "outputs": [],
   "source": [
    "scores, embeddings, spectrogram = yamnet_model(testing_wav_data)\n",
    "class_scores = tf.reduce_mean(scores, axis=0)\n",
    "top_class = tf.math.argmax(class_scores)\n",
    "inferred_class = class_names[top_class]\n",
    "\n",
    "print(f'The main sound is: {inferred_class}')\n",
    "print(f'The embeddings shape: {embeddings.shape}')"
   ]
  },
  {
   "cell_type": "markdown",
   "metadata": {
    "id": "YBaLNg5H5IWa"
   },
   "source": [
    "Note: The model correctly inferred an animal sound. Your goal in this tutorial is to increase the model's accuracy for specific classes. Also, notice that the model generated 13 embeddings, 1 per frame."
   ]
  },
  {
   "cell_type": "markdown",
   "metadata": {
    "id": "fmthELBg1A2-"
   },
   "source": [
    "## ESC-50 dataset\n",
    "\n",
    "The [ESC-50 dataset](https://github.com/karolpiczak/ESC-50#repository-content) ([Piczak, 2015](https://www.karolpiczak.com/papers/Piczak2015-ESC-Dataset.pdf)) is a labeled collection of 2,000 five-second long environmental audio recordings. The dataset consists of 50 classes, with 40 examples per class.\n",
    "\n",
    "Download the dataset and extract it. \n"
   ]
  },
  {
   "cell_type": "markdown",
   "metadata": {
    "id": "qcruxiuX1cO5"
   },
   "source": [
    "### Explore the data\n",
    "\n",
    "The metadata for each file is specified in the csv file at `./datasets/ESC-50-master/meta/esc50.csv`\n",
    "\n",
    "and all the audio files are in `./datasets/ESC-50-master/audio/`\n",
    "\n",
    "You will create a pandas `DataFrame` with the mapping and use that to have a clearer view of the data.\n"
   ]
  },
  {
   "cell_type": "code",
   "execution_count": 10,
   "metadata": {
    "execution": {
     "iopub.execute_input": "2022-12-14T04:18:51.766072Z",
     "iopub.status.busy": "2022-12-14T04:18:51.765458Z",
     "iopub.status.idle": "2022-12-14T04:18:51.779310Z",
     "shell.execute_reply": "2022-12-14T04:18:51.778681Z"
    },
    "id": "jwmLygPrMAbH"
   },
   "outputs": [],
   "source": [
    "pd_data = pd.read_csv(\"sound_metadata.csv\",names =[\"filename\",\"category\"])\n",
    "filtered_pd = pd_data"
   ]
  },
  {
   "cell_type": "markdown",
   "metadata": {
    "id": "BkDcBS-aJdCz"
   },
   "source": [
    "### Load the audio files and retrieve embeddings\n",
    "\n",
    "Here you'll apply the `load_wav_16k_mono` and prepare the WAV data for the model.\n",
    "\n",
    "When extracting embeddings from the WAV data, you get an array of shape `(N, 1024)`  where `N` is the number of frames that YAMNet found (one for every 0.48 seconds of audio)."
   ]
  },
  {
   "cell_type": "markdown",
   "metadata": {
    "id": "AKDT5RomaDKO"
   },
   "source": [
    "Your model will use each frame as one input. Therefore, you need to create a new column that has one frame per row. You also need to expand the labels and the `fold` column to proper reflect these new rows.\n",
    "\n",
    "The expanded `fold` column keeps the original values. You cannot mix frames because, when performing the splits, you might end up having parts of the same audio on different splits, which would make your validation and test steps less effective."
   ]
  },
  {
   "cell_type": "code",
   "execution_count": 14,
   "metadata": {
    "execution": {
     "iopub.execute_input": "2022-12-14T04:18:51.798158Z",
     "iopub.status.busy": "2022-12-14T04:18:51.797536Z",
     "iopub.status.idle": "2022-12-14T04:18:51.811159Z",
     "shell.execute_reply": "2022-12-14T04:18:51.810577Z"
    },
    "id": "u5Rq3_PyKLtU"
   },
   "outputs": [
    {
     "data": {
      "text/plain": [
       "(TensorSpec(shape=(), dtype=tf.string, name=None),\n",
       " TensorSpec(shape=(), dtype=tf.string, name=None))"
      ]
     },
     "execution_count": 14,
     "metadata": {},
     "output_type": "execute_result"
    }
   ],
   "source": [
    "filenames = filtered_pd['filename']\n",
    "targets = filtered_pd['category']\n",
    "\n",
    "main_ds = tf.data.Dataset.from_tensor_slices((filenames, targets))\n",
    "main_ds.element_spec"
   ]
  },
  {
   "cell_type": "code",
   "execution_count": 15,
   "metadata": {
    "execution": {
     "iopub.execute_input": "2022-12-14T04:18:51.814284Z",
     "iopub.status.busy": "2022-12-14T04:18:51.813707Z",
     "iopub.status.idle": "2022-12-14T04:18:51.956349Z",
     "shell.execute_reply": "2022-12-14T04:18:51.955746Z"
    },
    "id": "rsEfovDVAHGY"
   },
   "outputs": [
    {
     "name": "stdout",
     "output_type": "stream",
     "text": [
      "WARNING:tensorflow:From C:\\Users\\chloe\\anaconda3\\lib\\site-packages\\tensorflow\\python\\autograph\\pyct\\static_analysis\\liveness.py:83: Analyzer.lamba_check (from tensorflow.python.autograph.pyct.static_analysis.liveness) is deprecated and will be removed after 2023-09-23.\n",
      "Instructions for updating:\n",
      "Lambda fuctions will be no more assumed to be used in the statement where they are used, or at least in the same block. https://github.com/tensorflow/tensorflow/issues/56089\n"
     ]
    },
    {
     "name": "stderr",
     "output_type": "stream",
     "text": [
      "WARNING:tensorflow:From C:\\Users\\chloe\\anaconda3\\lib\\site-packages\\tensorflow\\python\\autograph\\pyct\\static_analysis\\liveness.py:83: Analyzer.lamba_check (from tensorflow.python.autograph.pyct.static_analysis.liveness) is deprecated and will be removed after 2023-09-23.\n",
      "Instructions for updating:\n",
      "Lambda fuctions will be no more assumed to be used in the statement where they are used, or at least in the same block. https://github.com/tensorflow/tensorflow/issues/56089\n"
     ]
    },
    {
     "name": "stdout",
     "output_type": "stream",
     "text": [
      "WARNING:tensorflow:Using a while_loop for converting IO>AudioResample cause there is no registered converter for this op.\n"
     ]
    },
    {
     "name": "stderr",
     "output_type": "stream",
     "text": [
      "WARNING:tensorflow:Using a while_loop for converting IO>AudioResample cause there is no registered converter for this op.\n"
     ]
    },
    {
     "data": {
      "text/plain": [
       "(TensorSpec(shape=<unknown>, dtype=tf.float32, name=None),\n",
       " TensorSpec(shape=(), dtype=tf.string, name=None))"
      ]
     },
     "execution_count": 15,
     "metadata": {},
     "output_type": "execute_result"
    }
   ],
   "source": [
    "def load_wav_for_map(filename, label):\n",
    "  return load_wav_16k_mono(filename), label\n",
    "\n",
    "main_ds = main_ds.map(load_wav_for_map)\n",
    "main_ds.element_spec"
   ]
  },
  {
   "cell_type": "code",
   "execution_count": 16,
   "metadata": {
    "execution": {
     "iopub.execute_input": "2022-12-14T04:18:51.959461Z",
     "iopub.status.busy": "2022-12-14T04:18:51.959001Z",
     "iopub.status.idle": "2022-12-14T04:18:52.142205Z",
     "shell.execute_reply": "2022-12-14T04:18:52.141497Z"
    },
    "id": "k0tG8DBNAHcE"
   },
   "outputs": [
    {
     "data": {
      "text/plain": [
       "(TensorSpec(shape=(1024,), dtype=tf.float32, name=None),\n",
       " TensorSpec(shape=(), dtype=tf.string, name=None))"
      ]
     },
     "execution_count": 16,
     "metadata": {},
     "output_type": "execute_result"
    }
   ],
   "source": [
    "# applies the embedding extraction model to a wav data\n",
    "def extract_embedding(wav_data, label):\n",
    "  ''' run YAMNet to extract embedding from the wav data '''\n",
    "  scores, embeddings, spectrogram = yamnet_model(wav_data)\n",
    "  num_embeddings = tf.shape(embeddings)[0]\n",
    "  return (embeddings,\n",
    "            tf.repeat(label, num_embeddings))\n",
    "\n",
    "# extract embedding\n",
    "main_ds = main_ds.map(extract_embedding).unbatch()\n",
    "main_ds.element_spec"
   ]
  },
  {
   "cell_type": "markdown",
   "metadata": {
    "id": "ZdfPIeD0Qedk"
   },
   "source": [
    "### Split the data\n",
    "\n",
    "You will use the `fold` column to split the dataset into train, validation and test sets.\n",
    "\n",
    "ESC-50 is arranged into five uniformly-sized cross-validation `fold`s, such that clips from the same original source are always in the same `fold` - find out more in the [ESC: Dataset for Environmental Sound Classification](https://www.karolpiczak.com/papers/Piczak2015-ESC-Dataset.pdf) paper.\n",
    "\n",
    "The last step is to remove the `fold` column from the dataset since you're not going to use it during training.\n"
   ]
  },
  {
   "cell_type": "code",
   "execution_count": null,
   "metadata": {
    "execution": {
     "iopub.execute_input": "2022-12-14T04:18:52.146236Z",
     "iopub.status.busy": "2022-12-14T04:18:52.145528Z",
     "iopub.status.idle": "2022-12-14T04:18:52.234549Z",
     "shell.execute_reply": "2022-12-14T04:18:52.233829Z"
    },
    "id": "1ZYvlFiVsffC"
   },
   "outputs": [],
   "source": [
    "cached_ds = main_ds.cache()\n",
    "train_ds = cached_ds.filter(lambda embedding, label, fold: fold < 4)\n",
    "val_ds = cached_ds.filter(lambda embedding, label, fold: fold == 4)\n",
    "test_ds = cached_ds.filter(lambda embedding, label, fold: fold == 5)\n",
    "\n",
    "# remove the folds column now that it's not needed anymore\n",
    "remove_fold_column = lambda embedding, label, fold: (embedding, label)\n",
    "\n",
    "train_ds = train_ds.map(remove_fold_column)\n",
    "val_ds = val_ds.map(remove_fold_column)\n",
    "test_ds = test_ds.map(remove_fold_column)\n",
    "\n",
    "train_ds = train_ds.cache().shuffle(1000).batch(32).prefetch(tf.data.AUTOTUNE)\n",
    "val_ds = val_ds.cache().batch(32).prefetch(tf.data.AUTOTUNE)\n",
    "test_ds = test_ds.cache().batch(32).prefetch(tf.data.AUTOTUNE)"
   ]
  },
  {
   "cell_type": "markdown",
   "metadata": {
    "id": "v5PaMwvtcAIe"
   },
   "source": [
    "## Create your model\n",
    "\n",
    "You did most of the work!\n",
    "Next, define a very simple [Sequential](https://www.tensorflow.org/guide/keras/sequential_model) model with one hidden layer and two outputs to recognize cats and dogs from sounds.\n"
   ]
  },
  {
   "cell_type": "code",
   "execution_count": null,
   "metadata": {
    "execution": {
     "iopub.execute_input": "2022-12-14T04:18:52.238333Z",
     "iopub.status.busy": "2022-12-14T04:18:52.237851Z",
     "iopub.status.idle": "2022-12-14T04:18:52.287908Z",
     "shell.execute_reply": "2022-12-14T04:18:52.287271Z"
    },
    "id": "JYCE0Fr1GpN3"
   },
   "outputs": [],
   "source": [
    "my_model = tf.keras.Sequential([\n",
    "    tf.keras.layers.Input(shape=(1024), dtype=tf.float32,\n",
    "                          name='input_embedding'),\n",
    "    tf.keras.layers.Dense(512, activation='relu'),\n",
    "    tf.keras.layers.Dense(len(my_classes))\n",
    "], name='my_model')\n",
    "\n",
    "my_model.summary()"
   ]
  },
  {
   "cell_type": "code",
   "execution_count": null,
   "metadata": {
    "execution": {
     "iopub.execute_input": "2022-12-14T04:18:52.293804Z",
     "iopub.status.busy": "2022-12-14T04:18:52.293101Z",
     "iopub.status.idle": "2022-12-14T04:18:52.306769Z",
     "shell.execute_reply": "2022-12-14T04:18:52.306168Z"
    },
    "id": "l1qgH35HY0SE"
   },
   "outputs": [],
   "source": [
    "my_model.compile(loss=tf.keras.losses.SparseCategoricalCrossentropy(from_logits=True),\n",
    "                 optimizer=\"adam\",\n",
    "                 metrics=['accuracy'])\n",
    "\n",
    "callback = tf.keras.callbacks.EarlyStopping(monitor='loss',\n",
    "                                            patience=3,\n",
    "                                            restore_best_weights=True)"
   ]
  },
  {
   "cell_type": "code",
   "execution_count": null,
   "metadata": {
    "execution": {
     "iopub.execute_input": "2022-12-14T04:18:52.309904Z",
     "iopub.status.busy": "2022-12-14T04:18:52.309387Z",
     "iopub.status.idle": "2022-12-14T04:18:58.376646Z",
     "shell.execute_reply": "2022-12-14T04:18:58.376018Z"
    },
    "id": "T3sj84eOZ3pk"
   },
   "outputs": [],
   "source": [
    "history = my_model.fit(train_ds,\n",
    "                       epochs=20,\n",
    "                       validation_data=val_ds,\n",
    "                       callbacks=callback)"
   ]
  },
  {
   "cell_type": "markdown",
   "metadata": {
    "id": "OAbraYKYpdoE"
   },
   "source": [
    "Let's run the `evaluate` method on the test data just to be sure there's no overfitting."
   ]
  },
  {
   "cell_type": "code",
   "execution_count": null,
   "metadata": {
    "execution": {
     "iopub.execute_input": "2022-12-14T04:18:58.380355Z",
     "iopub.status.busy": "2022-12-14T04:18:58.379735Z",
     "iopub.status.idle": "2022-12-14T04:18:58.548380Z",
     "shell.execute_reply": "2022-12-14T04:18:58.547648Z"
    },
    "id": "H4Nh5nec3Sky"
   },
   "outputs": [],
   "source": [
    "loss, accuracy = my_model.evaluate(test_ds)\n",
    "\n",
    "print(\"Loss: \", loss)\n",
    "print(\"Accuracy: \", accuracy)"
   ]
  },
  {
   "cell_type": "markdown",
   "metadata": {
    "id": "cid-qIrIpqHS"
   },
   "source": [
    "You did it!"
   ]
  },
  {
   "cell_type": "markdown",
   "metadata": {
    "id": "nCKZonrJcXab"
   },
   "source": [
    "## Test your model\n",
    "\n",
    "Next, try your model on the embedding from the previous test using YAMNet only.\n"
   ]
  },
  {
   "cell_type": "code",
   "execution_count": null,
   "metadata": {
    "execution": {
     "iopub.execute_input": "2022-12-14T04:18:58.552117Z",
     "iopub.status.busy": "2022-12-14T04:18:58.551565Z",
     "iopub.status.idle": "2022-12-14T04:18:58.565239Z",
     "shell.execute_reply": "2022-12-14T04:18:58.564489Z"
    },
    "id": "79AFpA3_ctCF"
   },
   "outputs": [],
   "source": [
    "scores, embeddings, spectrogram = yamnet_model(testing_wav_data)\n",
    "result = my_model(embeddings).numpy()\n",
    "\n",
    "inferred_class = my_classes[result.mean(axis=0).argmax()]\n",
    "print(f'The main sound is: {inferred_class}')"
   ]
  },
  {
   "cell_type": "markdown",
   "metadata": {
    "id": "k2yleeev645r"
   },
   "source": [
    "## Save a model that can directly take a WAV file as input\n",
    "\n",
    "Your model works when you give it the embeddings as input.\n",
    "\n",
    "In a real-world scenario, you'll want to use audio data as a direct input.\n",
    "\n",
    "To do that, you will combine YAMNet with your model into a single model that you can export for other applications.\n",
    "\n",
    "To make it easier to use the model's result, the final layer will be a `reduce_mean` operation. When using this model for serving (which you will learn about later in the tutorial), you will need the name of the final layer. If you don't define one, TensorFlow will auto-define an incremental one that makes it hard to test, as it will keep changing every time you train the model. When using a raw TensorFlow operation, you can't assign a name to it. To address this issue, you'll create a custom layer that applies `reduce_mean` and call it `'classifier'`.\n"
   ]
  },
  {
   "cell_type": "code",
   "execution_count": null,
   "metadata": {
    "execution": {
     "iopub.execute_input": "2022-12-14T04:18:58.568728Z",
     "iopub.status.busy": "2022-12-14T04:18:58.568159Z",
     "iopub.status.idle": "2022-12-14T04:18:58.572538Z",
     "shell.execute_reply": "2022-12-14T04:18:58.571894Z"
    },
    "id": "QUVCI2Suunpw"
   },
   "outputs": [],
   "source": [
    "class ReduceMeanLayer(tf.keras.layers.Layer):\n",
    "  def __init__(self, axis=0, **kwargs):\n",
    "    super(ReduceMeanLayer, self).__init__(**kwargs)\n",
    "    self.axis = axis\n",
    "\n",
    "  def call(self, input):\n",
    "    return tf.math.reduce_mean(input, axis=self.axis)"
   ]
  },
  {
   "cell_type": "code",
   "execution_count": null,
   "metadata": {
    "execution": {
     "iopub.execute_input": "2022-12-14T04:18:58.575558Z",
     "iopub.status.busy": "2022-12-14T04:18:58.575321Z",
     "iopub.status.idle": "2022-12-14T04:19:08.507406Z",
     "shell.execute_reply": "2022-12-14T04:19:08.506697Z"
    },
    "id": "zE_Npm0nzlwc"
   },
   "outputs": [],
   "source": [
    "saved_model_path = './dogs_and_cats_yamnet'\n",
    "\n",
    "input_segment = tf.keras.layers.Input(shape=(), dtype=tf.float32, name='audio')\n",
    "embedding_extraction_layer = hub.KerasLayer(yamnet_model_handle,\n",
    "                                            trainable=False, name='yamnet')\n",
    "_, embeddings_output, _ = embedding_extraction_layer(input_segment)\n",
    "serving_outputs = my_model(embeddings_output)\n",
    "serving_outputs = ReduceMeanLayer(axis=0, name='classifier')(serving_outputs)\n",
    "serving_model = tf.keras.Model(input_segment, serving_outputs)\n",
    "serving_model.save(saved_model_path, include_optimizer=False)"
   ]
  },
  {
   "cell_type": "code",
   "execution_count": null,
   "metadata": {
    "execution": {
     "iopub.execute_input": "2022-12-14T04:19:08.511501Z",
     "iopub.status.busy": "2022-12-14T04:19:08.510870Z",
     "iopub.status.idle": "2022-12-14T04:19:08.739847Z",
     "shell.execute_reply": "2022-12-14T04:19:08.738914Z"
    },
    "id": "y-0bY5FMme1C"
   },
   "outputs": [],
   "source": [
    "tf.keras.utils.plot_model(serving_model)"
   ]
  },
  {
   "cell_type": "markdown",
   "metadata": {
    "id": "btHQDN9mqxM_"
   },
   "source": [
    "Load your saved model to verify that it works as expected."
   ]
  },
  {
   "cell_type": "code",
   "execution_count": null,
   "metadata": {
    "execution": {
     "iopub.execute_input": "2022-12-14T04:19:08.743835Z",
     "iopub.status.busy": "2022-12-14T04:19:08.743210Z",
     "iopub.status.idle": "2022-12-14T04:19:13.557075Z",
     "shell.execute_reply": "2022-12-14T04:19:13.556280Z"
    },
    "id": "KkYVpJS72WWB"
   },
   "outputs": [],
   "source": [
    "reloaded_model = tf.saved_model.load(saved_model_path)"
   ]
  },
  {
   "cell_type": "markdown",
   "metadata": {
    "id": "4BkmvvNzq49l"
   },
   "source": [
    "And for the final test: given some sound data, does your model return the correct result?"
   ]
  },
  {
   "cell_type": "code",
   "execution_count": null,
   "metadata": {
    "execution": {
     "iopub.execute_input": "2022-12-14T04:19:13.561371Z",
     "iopub.status.busy": "2022-12-14T04:19:13.560548Z",
     "iopub.status.idle": "2022-12-14T04:19:13.843315Z",
     "shell.execute_reply": "2022-12-14T04:19:13.842636Z"
    },
    "id": "xeXtD5HO28y-"
   },
   "outputs": [],
   "source": [
    "reloaded_results = reloaded_model(testing_wav_data)\n",
    "cat_or_dog = my_classes[tf.math.argmax(reloaded_results)]\n",
    "print(f'The main sound is: {cat_or_dog}')"
   ]
  },
  {
   "cell_type": "markdown",
   "metadata": {
    "id": "ZRrOcBYTUgwn"
   },
   "source": [
    "If you want to try your new model on a serving setup, you can use the 'serving_default' signature."
   ]
  },
  {
   "cell_type": "code",
   "execution_count": null,
   "metadata": {
    "execution": {
     "iopub.execute_input": "2022-12-14T04:19:13.847106Z",
     "iopub.status.busy": "2022-12-14T04:19:13.846556Z",
     "iopub.status.idle": "2022-12-14T04:19:14.050706Z",
     "shell.execute_reply": "2022-12-14T04:19:14.049955Z"
    },
    "id": "ycC8zzDSUG2s"
   },
   "outputs": [],
   "source": [
    "serving_results = reloaded_model.signatures['serving_default'](testing_wav_data)\n",
    "cat_or_dog = my_classes[tf.math.argmax(serving_results['classifier'])]\n",
    "print(f'The main sound is: {cat_or_dog}')\n"
   ]
  },
  {
   "cell_type": "markdown",
   "metadata": {
    "id": "da7blblCHs8c"
   },
   "source": [
    "## (Optional) Some more testing\n",
    "\n",
    "The model is ready.\n",
    "\n",
    "Let's compare it to YAMNet on the test dataset."
   ]
  },
  {
   "cell_type": "code",
   "execution_count": null,
   "metadata": {
    "execution": {
     "iopub.execute_input": "2022-12-14T04:19:14.054265Z",
     "iopub.status.busy": "2022-12-14T04:19:14.053725Z",
     "iopub.status.idle": "2022-12-14T04:19:14.542503Z",
     "shell.execute_reply": "2022-12-14T04:19:14.541656Z"
    },
    "id": "vDf5MASIIN1z"
   },
   "outputs": [],
   "source": [
    "test_pd = filtered_pd.loc[filtered_pd['fold'] == 5]\n",
    "row = test_pd.sample(1)\n",
    "filename = row['filename'].item()\n",
    "print(filename)\n",
    "waveform = load_wav_16k_mono(filename)\n",
    "print(f'Waveform values: {waveform}')\n",
    "_ = plt.plot(waveform)\n",
    "\n",
    "display.Audio(waveform, rate=16000)"
   ]
  },
  {
   "cell_type": "code",
   "execution_count": null,
   "metadata": {
    "execution": {
     "iopub.execute_input": "2022-12-14T04:19:14.546026Z",
     "iopub.status.busy": "2022-12-14T04:19:14.545740Z",
     "iopub.status.idle": "2022-12-14T04:19:14.879626Z",
     "shell.execute_reply": "2022-12-14T04:19:14.878897Z"
    },
    "id": "eYUzFxYJIcE1"
   },
   "outputs": [],
   "source": [
    "# Run the model, check the output.\n",
    "scores, embeddings, spectrogram = yamnet_model(waveform)\n",
    "class_scores = tf.reduce_mean(scores, axis=0)\n",
    "top_class = tf.math.argmax(class_scores)\n",
    "inferred_class = class_names[top_class]\n",
    "top_score = class_scores[top_class]\n",
    "print(f'[YAMNet] The main sound is: {inferred_class} ({top_score})')\n",
    "\n",
    "reloaded_results = reloaded_model(waveform)\n",
    "your_top_class = tf.math.argmax(reloaded_results)\n",
    "your_inferred_class = my_classes[your_top_class]\n",
    "class_probabilities = tf.nn.softmax(reloaded_results, axis=-1)\n",
    "your_top_score = class_probabilities[your_top_class]\n",
    "print(f'[Your model] The main sound is: {your_inferred_class} ({your_top_score})')"
   ]
  },
  {
   "cell_type": "markdown",
   "metadata": {
    "id": "g8Tsym8Rq-0V"
   },
   "source": [
    "## Next steps\n",
    "\n",
    "You have created a model that can classify sounds from dogs or cats. With the same idea and a different dataset you can try, for example, building an [acoustic identifier of birds](https://www.kaggle.com/c/birdclef-2021/) based on their singing.\n",
    "\n",
    "Share your project with the TensorFlow team on social media!\n"
   ]
  }
 ],
 "metadata": {
  "accelerator": "GPU",
  "colab": {
   "collapsed_sections": [],
   "name": "transfer_learning_audio.ipynb",
   "toc_visible": true
  },
  "kernelspec": {
   "display_name": "Python 3 (ipykernel)",
   "language": "python",
   "name": "python3"
  },
  "language_info": {
   "codemirror_mode": {
    "name": "ipython",
    "version": 3
   },
   "file_extension": ".py",
   "mimetype": "text/x-python",
   "name": "python",
   "nbconvert_exporter": "python",
   "pygments_lexer": "ipython3",
   "version": "3.9.13"
  }
 },
 "nbformat": 4,
 "nbformat_minor": 1
}
